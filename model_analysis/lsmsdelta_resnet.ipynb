{
 "cells": [
  {
   "cell_type": "markdown",
   "metadata": {
    "toc": true
   },
   "source": [
    "<h1>Table of Contents<span class=\"tocSkip\"></span></h1>\n",
    "<div class=\"toc\"><ul class=\"toc-item\"><li><span><a href=\"#Imports-+-Constants\" data-toc-modified-id=\"Imports-+-Constants-1\"><span class=\"toc-item-num\">1&nbsp;&nbsp;</span>Imports + Constants</a></span></li><li><span><a href=\"#Load-Incountry-Folds\" data-toc-modified-id=\"Load-Incountry-Folds-2\"><span class=\"toc-item-num\">2&nbsp;&nbsp;</span>Load Incountry Folds</a></span></li><li><span><a href=\"#Helper-methods\" data-toc-modified-id=\"Helper-methods-3\"><span class=\"toc-item-num\">3&nbsp;&nbsp;</span>Helper methods</a></span></li><li><span><a href=\"#LSMSDeltaIncountry\" data-toc-modified-id=\"LSMSDeltaIncountry-4\"><span class=\"toc-item-num\">4&nbsp;&nbsp;</span>LSMSDeltaIncountry</a></span><ul class=\"toc-item\"><li><span><a href=\"#Load-saved-preds-+-features\" data-toc-modified-id=\"Load-saved-preds-+-features-4.1\"><span class=\"toc-item-num\">4.1&nbsp;&nbsp;</span>Load saved preds + features</a></span></li><li><span><a href=\"#PCA-&amp;-t-SNE-features\" data-toc-modified-id=\"PCA-&amp;-t-SNE-features-4.2\"><span class=\"toc-item-num\">4.2&nbsp;&nbsp;</span>PCA &amp; t-SNE features</a></span></li><li><span><a href=\"#Evaluate\" data-toc-modified-id=\"Evaluate-4.3\"><span class=\"toc-item-num\">4.3&nbsp;&nbsp;</span>Evaluate</a></span></li><li><span><a href=\"#Fine-Tune-Final-Layer-with-Cross-Validation\" data-toc-modified-id=\"Fine-Tune-Final-Layer-with-Cross-Validation-4.4\"><span class=\"toc-item-num\">4.4&nbsp;&nbsp;</span>Fine Tune Final Layer with Cross-Validation</a></span></li><li><span><a href=\"#Evaluate\" data-toc-modified-id=\"Evaluate-4.5\"><span class=\"toc-item-num\">4.5&nbsp;&nbsp;</span>Evaluate</a></span></li><li><span><a href=\"#Effect-of-household-size\" data-toc-modified-id=\"Effect-of-household-size-4.6\"><span class=\"toc-item-num\">4.6&nbsp;&nbsp;</span>Effect of household size</a></span></li><li><span><a href=\"#Visualize-best-and-worst-predictions\" data-toc-modified-id=\"Visualize-best-and-worst-predictions-4.7\"><span class=\"toc-item-num\">4.7&nbsp;&nbsp;</span>Visualize best and worst predictions</a></span></li></ul></li><li><span><a href=\"#LSMSIndexOfDeltaIncountry\" data-toc-modified-id=\"LSMSIndexOfDeltaIncountry-5\"><span class=\"toc-item-num\">5&nbsp;&nbsp;</span>LSMSIndexOfDeltaIncountry</a></span><ul class=\"toc-item\"><li><span><a href=\"#Load-saved-preds-+-features\" data-toc-modified-id=\"Load-saved-preds-+-features-5.1\"><span class=\"toc-item-num\">5.1&nbsp;&nbsp;</span>Load saved preds + features</a></span></li><li><span><a href=\"#PCA-&amp;-t-SNE-features\" data-toc-modified-id=\"PCA-&amp;-t-SNE-features-5.2\"><span class=\"toc-item-num\">5.2&nbsp;&nbsp;</span>PCA &amp; t-SNE features</a></span></li><li><span><a href=\"#Evaluate\" data-toc-modified-id=\"Evaluate-5.3\"><span class=\"toc-item-num\">5.3&nbsp;&nbsp;</span>Evaluate</a></span></li><li><span><a href=\"#Fine-Tune-Final-Layer-with-Cross-Validation\" data-toc-modified-id=\"Fine-Tune-Final-Layer-with-Cross-Validation-5.4\"><span class=\"toc-item-num\">5.4&nbsp;&nbsp;</span>Fine Tune Final Layer with Cross-Validation</a></span></li><li><span><a href=\"#Evaluate\" data-toc-modified-id=\"Evaluate-5.5\"><span class=\"toc-item-num\">5.5&nbsp;&nbsp;</span>Evaluate</a></span></li><li><span><a href=\"#Effect-of-household-size\" data-toc-modified-id=\"Effect-of-household-size-5.6\"><span class=\"toc-item-num\">5.6&nbsp;&nbsp;</span>Effect of household size</a></span></li><li><span><a href=\"#Visualize-best-and-worst-predictions\" data-toc-modified-id=\"Visualize-best-and-worst-predictions-5.7\"><span class=\"toc-item-num\">5.7&nbsp;&nbsp;</span>Visualize best and worst predictions</a></span></li><li><span><a href=\"#Variation-by-geolevel\" data-toc-modified-id=\"Variation-by-geolevel-5.8\"><span class=\"toc-item-num\">5.8&nbsp;&nbsp;</span>Variation by geolevel</a></span></li></ul></li></ul></div>"
   ]
  },
  {
   "cell_type": "markdown",
   "metadata": {},
   "source": [
    "# Imports + Constants"
   ]
  },
  {
   "cell_type": "code",
   "execution_count": null,
   "metadata": {},
   "outputs": [],
   "source": [
    "%load_ext autoreload\n",
    "%autoreload 2\n",
    "%matplotlib inline"
   ]
  },
  {
   "cell_type": "code",
   "execution_count": null,
   "metadata": {},
   "outputs": [],
   "source": [
    "import os\n",
    "import sys\n",
    "import time\n",
    "\n",
    "import matplotlib.pyplot as plt\n",
    "import numpy as np\n",
    "import pickle\n",
    "import pandas as pd\n",
    "import seaborn as sns\n",
    "from sklearn.decomposition import PCA\n",
    "from sklearn.manifold import TSNE\n",
    "from sklearn.preprocessing import StandardScaler\n",
    "import tensorflow as tf\n",
    "\n",
    "sys.path.append('../')\n",
    "from batchers import batcher, dataset_constants\n",
    "from models.linear_model import train_linear_logo\n",
    "from utils.analysis import evaluate_df, calc_score\n",
    "from utils.general import load_npz, colordisplay\n",
    "from utils.geo_plot import plot_locs\n",
    "from utils.plot import plot_image_by_band"
   ]
  },
  {
   "cell_type": "code",
   "execution_count": null,
   "metadata": {},
   "outputs": [],
   "source": [
    "LOGS_ROOT_DIR = '../logs/'\n",
    "FOLDS = ['A', 'B', 'C', 'D', 'E']\n",
    "BAND_ORDER = ['BLUE', 'GREEN', 'RED', 'SWIR1', 'SWIR2', 'TEMP1', 'NIR', 'NIGHTLIGHTS']\n",
    "LSMS_COUNTRIES = dataset_constants.LSMS_COUNTRIES"
   ]
  },
  {
   "cell_type": "markdown",
   "metadata": {},
   "source": [
    "# Load Incountry Folds"
   ]
  },
  {
   "cell_type": "code",
   "execution_count": null,
   "metadata": {},
   "outputs": [],
   "source": [
    "# load lsmsdelta_pairs.csv\n",
    "delta_pairs_df = pd.read_csv('../data/lsmsdelta_pairs.csv', index_col=False, float_precision='high')\n",
    "delta_pairs_df.rename({\n",
    "    'x': 'households',\n",
    "    'index_diff': 'indexofdelta',\n",
    "    'index': 'deltaofindex',\n",
    "    'year.x': 'year1',\n",
    "    'year.y': 'year2'\n",
    "}, axis=1, inplace=True)\n",
    "for col in ['lat', 'lon', 'deltaofindex', 'indexofdelta']:\n",
    "    delta_pairs_df[col] = delta_pairs_df[col].astype(np.float32)\n",
    "for col in ['year1', 'year2']:\n",
    "    delta_pairs_df[col] = delta_pairs_df[col].astype(np.int32)\n",
    "with pd.option_context('display.max_rows', 4):\n",
    "    display(delta_pairs_df)\n",
    "\n",
    "country_labels = delta_pairs_df['country'].map(LSMS_COUNTRIES.index).values\n",
    "country_indices = {\n",
    "    country: np.flatnonzero(delta_pairs_df['country'] == country)\n",
    "    for country in LSMS_COUNTRIES\n",
    "}\n",
    "households = delta_pairs_df['households'].values\n",
    "\n",
    "with open('../data/lsms_incountry_folds.pkl', 'rb') as f:\n",
    "    incountry_folds = pickle.load(f)\n",
    "npairs = len(delta_pairs_df)\n",
    "incountry_group_labels = np.zeros(npairs, dtype=np.int32)\n",
    "incountry_train_masks = {}  # fold => mask (un-augmented)\n",
    "for i, f in enumerate(FOLDS):\n",
    "    fold_mask = delta_pairs_df[['tfrecords_index.x', 'tfrecords_index.y']].isin(incountry_folds[f]['test']).values\n",
    "    assert np.all(fold_mask[:, 0] == fold_mask[:, 1])\n",
    "    fold_mask = fold_mask[:, 0]\n",
    "    incountry_group_labels[fold_mask] = i\n",
    "\n",
    "    fold_mask = delta_pairs_df[['tfrecords_index.x', 'tfrecords_index.y']].isin(incountry_folds[f]['train']).values\n",
    "    assert np.all(fold_mask[:, 0] == fold_mask[:, 1])\n",
    "    incountry_train_masks[f] = np.array(fold_mask[:, 0])  # make a copy"
   ]
  },
  {
   "cell_type": "code",
   "execution_count": null,
   "metadata": {},
   "outputs": [],
   "source": [
    "# inclusive ranges\n",
    "forward_range = (0, npairs - 1)\n",
    "backward_range = (npairs, 2 * npairs - 1)\n",
    "directional_range = (0, 2 * npairs - 1)\n",
    "zero_range = (2 * npairs, 4 * npairs - 1)\n",
    "\n",
    "named_ranges = [\n",
    "    ('forward', forward_range),\n",
    "    ('backward', backward_range),\n",
    "    ('bi-directional', directional_range)\n",
    "]"
   ]
  },
  {
   "cell_type": "code",
   "execution_count": null,
   "metadata": {},
   "outputs": [],
   "source": [
    "locs = delta_pairs_df[['lat', 'lon']].values\n",
    "labels_doi = delta_pairs_df['deltaofindex'].values\n",
    "labels_iod = delta_pairs_df['indexofdelta'].values\n",
    "years1 = delta_pairs_df['year1'].values\n",
    "years2 = delta_pairs_df['year2'].values\n",
    "weights = delta_pairs_df['households'].values\n",
    "weights = weights * len(weights) / np.sum(weights)"
   ]
  },
  {
   "cell_type": "code",
   "execution_count": null,
   "metadata": {},
   "outputs": [],
   "source": [
    "locs_aug = np.tile(locs, (4, 1))\n",
    "labels_doi_aug = np.concatenate([labels_doi, -labels_doi, np.zeros_like(labels_doi), np.zeros_like(labels_doi)])\n",
    "labels_iod_aug = np.concatenate([labels_iod, -labels_iod, np.zeros_like(labels_iod), np.zeros_like(labels_iod)])\n",
    "years1_aug = np.concatenate([years1, years2, years1, years2])\n",
    "years2_aug = np.concatenate([years2, years1, years1, years2])\n",
    "weights_aug = np.tile(weights, 4)\n",
    "\n",
    "country_labels_aug = np.tile(country_labels, 4)\n",
    "incountry_group_labels_aug = np.tile(incountry_group_labels, 4)\n",
    "country_indices_aug = {\n",
    "    country: np.tile(indices, 4)\n",
    "    for country, indices in country_indices.items()\n",
    "}"
   ]
  },
  {
   "cell_type": "markdown",
   "metadata": {},
   "source": [
    "# Helper methods"
   ]
  },
  {
   "cell_type": "code",
   "execution_count": null,
   "metadata": {},
   "outputs": [],
   "source": [
    "def load_test_preds(npzs, labels_aug, bands_list):\n",
    "    preds_df = pd.DataFrame(data={\n",
    "        'label': labels_aug,\n",
    "        'fold': np.asarray(FOLDS)[incountry_group_labels_aug],\n",
    "        'country': np.asarray(LSMS_COUNTRIES)[country_labels_aug],\n",
    "        'lat': locs_aug[:, 0],\n",
    "        'lon': locs_aug[:, 1],\n",
    "        'year1': years1_aug,\n",
    "        'year2': years2_aug,\n",
    "        'weight': weights_aug\n",
    "    })\n",
    "\n",
    "    for bands in bands_list:\n",
    "        test_preds = np.zeros(npairs * 4)\n",
    "        for i, f in enumerate(FOLDS):\n",
    "            test_mask = (incountry_group_labels_aug == i)\n",
    "            if len(npzs[(bands, f)]['preds'].shape) > 1:\n",
    "                test_preds[test_mask] = npzs[(bands, f)]['preds'][test_mask, 0]\n",
    "            else:\n",
    "                test_preds[test_mask] = npzs[(bands, f)]['preds'][test_mask]\n",
    "\n",
    "        col_name = 'preds_' + bands\n",
    "        preds_df[col_name] = test_preds\n",
    "\n",
    "    return preds_df"
   ]
  },
  {
   "cell_type": "code",
   "execution_count": null,
   "metadata": {},
   "outputs": [],
   "source": [
    "def print_regression_results_by_range(preds_df, forward_range, backward_range, zero_range, weighted=False):\n",
    "    '''\n",
    "    Args\n",
    "    - preds_df: pd.DataFrame, columns ['preds_*', 'label']\n",
    "    - *_range: tuple (start_index, end_index), inclusive\n",
    "    - weighted: bool, if true then preds_df must have 'weights' column\n",
    "    '''\n",
    "    cols = [col for col in preds_df.columns if 'pred' in col]\n",
    "    weights_col = 'weight' if weighted else None\n",
    "\n",
    "    print('overall test results')\n",
    "    colordisplay(evaluate_df(preds_df, cols, weights_col=weights_col))\n",
    "\n",
    "    print('overall test results, only forward prediction')\n",
    "    colordisplay(evaluate_df(preds_df.loc[slice(*forward_range), :], cols, weights_col=weights_col))\n",
    "\n",
    "    print('overall test results, only backward prediction')\n",
    "    colordisplay(evaluate_df(preds_df.loc[slice(*backward_range), :], cols, weights_col=weights_col))\n",
    "\n",
    "    print('overall test results, only zero prediction')\n",
    "    subset_df = preds_df.loc[slice(*zero_range), :]\n",
    "    weights = subset_df['weight'] if weighted else None\n",
    "    mses = [calc_score(labels=subset_df['label'],\n",
    "                        preds=subset_df[col],\n",
    "                        metric='mse', weights=weights)\n",
    "            for col in cols]\n",
    "    colordisplay(pd.Series(mses, index=cols).to_frame())"
   ]
  },
  {
   "cell_type": "code",
   "execution_count": null,
   "metadata": {},
   "outputs": [],
   "source": [
    "def scatterplot_by_country(preds_df, col, named_ranges):\n",
    "    '''\n",
    "    Args\n",
    "    - preds_df: pd.DataFrame, columns ['label', 'country']\n",
    "    - col: str, name of model preds column in preds_df\n",
    "    - named_ranges: list of (range_name, (start_index, end_index)), ranges are inclusive\n",
    "    '''\n",
    "    ncols = len(named_ranges)\n",
    "    fig, axs = plt.subplots(1, ncols, sharey=True, figsize=[3*ncols + 1.5, 4])\n",
    "    if ncols == 1:\n",
    "        axs = [axs]\n",
    "    for ax, (name, range) in zip(axs, named_ranges):\n",
    "        sns.scatterplot(data=preds_df.loc[slice(*range), ['label', col, 'country']],\n",
    "                        ax=ax, x='label', y=col, hue='country')\n",
    "        ax.set_title(name + ' deltas')\n",
    "        ax.grid(True)\n",
    "        ax.set_aspect('equal')\n",
    "        (bot, top) = ax.get_ylim()\n",
    "        bot = max(bot, -2.5) - 0.2\n",
    "        top = min(top, 2.5) + 0.2\n",
    "        ax.set_ylim(bot, top)\n",
    "\n",
    "    for ax in axs[:-1]:\n",
    "        ax.get_legend().remove()\n",
    "    axs[-1].legend(loc='center left', bbox_to_anchor=(1, 0.5))\n",
    "    fig.tight_layout()\n",
    "    plt.show()"
   ]
  },
  {
   "cell_type": "code",
   "execution_count": null,
   "metadata": {},
   "outputs": [],
   "source": [
    "def r2_per_band(preds_df, named_ranges, by, show_first_df=False, weighted=False):\n",
    "    '''\n",
    "    Args\n",
    "    - test_preds_df: pd.DataFrame,\n",
    "        - columns ['label', 'country', 'fold', 'year1', 'year2', 'preds_*']\n",
    "    - named_ranges: list of (range_name, (start_index, end_index)), ranges are inclusive\n",
    "    - by: str or list of str, from ['country', 'fold', 'year1', 'year2']\n",
    "    - show_first_df: bool\n",
    "    - weighted: bool\n",
    "    '''\n",
    "    if isinstance(by, str):\n",
    "        by = [by]\n",
    "    cols = [col for col in preds_df.columns if 'pred' in col]\n",
    "    weights_col = 'weight' if weighted else None\n",
    "\n",
    "    ncols = len(named_ranges)\n",
    "    width = 3 * ncols + 0.5 * len(by) + 0.5\n",
    "    fig, axs = plt.subplots(1, ncols, sharey=True, figsize=[width, 4])\n",
    "    if ncols == 1:\n",
    "        axs = [axs]\n",
    "    for i, (name, range) in enumerate(named_ranges):\n",
    "        results_df = (preds_df.loc[slice(*range), :]\n",
    "                              .groupby(by)\n",
    "                              .apply(evaluate_df, cols=cols, weights_col=weights_col))\n",
    "\n",
    "        if show_first_df and i == 0:\n",
    "            colordisplay(results_df)\n",
    "\n",
    "        results_df = results_df['r2'].unstack(by)\n",
    "        results_df['avg'] = results_df.mean(axis=1)\n",
    "\n",
    "        ax = axs[i]\n",
    "        results_df.plot.bar(ax=ax, grid=True, width=0.7, legend=False)\n",
    "        ax.set_ylabel('$r^2$')\n",
    "        ax.set_title('test $r^2$ ' + name)\n",
    "        ax.set_ylim(0, 0.5)\n",
    "    axs[-1].legend(title=by, loc='center left', bbox_to_anchor=(1, 0.5))\n",
    "    fig.tight_layout()\n",
    "    plt.show()"
   ]
  },
  {
   "cell_type": "code",
   "execution_count": null,
   "metadata": {},
   "outputs": [],
   "source": [
    "def run_ridgecv_incountry(npzs, models_dict, base_dir, bands, labels, locs,\n",
    "                          years1, years2, group_labels, weights=None):\n",
    "    '''\n",
    "    For every fold F (the test fold):\n",
    "      1. uses leave-one-fold-out CV on all other folds\n",
    "         to tune ridge model alpha parameter\n",
    "      2. using best alpha, trains ridge model on all folds except F\n",
    "      3. runs trained ridge model on F\n",
    "    Saves predictions for each fold on test.\n",
    "\n",
    "    Args\n",
    "    - npzs: dict, (bands, fold) => npz\n",
    "    - models_dict: dict, (bands, fold) => directory name\n",
    "    - base_dir: str, path to dir\n",
    "    - bands: str\n",
    "    - labels: np.array, shape [N]\n",
    "    - locs: np.array, shape [N, 2]\n",
    "    - year1: np.array, shape [N]\n",
    "    - year2: np.array, shape [N]\n",
    "    - group_labels: np.array, shape [N]\n",
    "    - weights: np.array, shape [N]\n",
    "    '''\n",
    "    test_preds = np.zeros(len(labels), dtype=np.float32)\n",
    "    do_plot = True\n",
    "\n",
    "    ridge_weights = {}\n",
    "\n",
    "    for i, f in enumerate(FOLDS):\n",
    "        print('Fold:', f)\n",
    "        model_dir = models_dict[(bands, f)]\n",
    "        features = npzs[(bands, f)]['features']\n",
    "\n",
    "        group_labels_cv = np.array(group_labels)  # make a copy\n",
    "        aug_labels = group_labels_cv[npairs:]\n",
    "        aug_labels[aug_labels != i] = -1\n",
    "\n",
    "        fold_mask = (group_labels == i)\n",
    "        test_preds[fold_mask], coefs, intercept = train_linear_logo(\n",
    "            features=features,\n",
    "            labels=labels,\n",
    "            group_labels=group_labels_cv,\n",
    "            cv_groups=[x for x in range(5) if x != i],\n",
    "            test_groups=[i],\n",
    "            weights=weights,\n",
    "            plot=do_plot,\n",
    "            group_names=FOLDS,\n",
    "            return_weights=True)\n",
    "        ridge_weights[model_dir + '_w'] = coefs\n",
    "        ridge_weights[model_dir + '_b'] = np.asarray([intercept])\n",
    "        do_plot = False\n",
    "\n",
    "    # save preds on the test set\n",
    "    log_dir = os.path.join(base_dir, f'lsmsdelta_{bands}')\n",
    "    os.makedirs(log_dir, exist_ok=True)\n",
    "    save_dict = dict(test_preds=test_preds, locs=locs, labels=labels,\n",
    "                     years1=years1, years2=years2)\n",
    "    if weights is not None:\n",
    "        save_dict['weights'] = weights\n",
    "    npz_path = os.path.join(log_dir, 'test_preds.npz')\n",
    "    np.savez_compressed(npz_path, **save_dict)\n",
    "    print('saving preds to:', npz_path)\n",
    "\n",
    "    # save model weights\n",
    "    weights_npz_path = os.path.join(log_dir, 'ridge_weights.npz')\n",
    "    np.savez_compressed(weights_npz_path, **ridge_weights)\n",
    "    print('saving weights to:', weights_npz_path)"
   ]
  },
  {
   "cell_type": "code",
   "execution_count": null,
   "metadata": {},
   "outputs": [],
   "source": [
    "def run_ridgecv_incountry_concat(npzs, models_dict, base_dir, bands_list, labels, locs,\n",
    "                                 years1, years2, group_labels, weights=None):\n",
    "    '''\n",
    "    For every fold F (the test fold):\n",
    "      1. uses leave-one-fold-out CV on all other folds\n",
    "         to tune ridge model alpha parameter\n",
    "      2. using best alpha, trains ridge model on all folds except F\n",
    "      3. runs trained ridge model on F\n",
    "    Saves predictions for each fold on test.\n",
    "\n",
    "    Args\n",
    "    - npzs: dict, (bands, fold) => npz\n",
    "    - models_dict: dict, (bands, fold) => directory name\n",
    "    - base_dir: str, path to dir\n",
    "    - bands_list: list of str\n",
    "    - labels: np.array, shape [N]\n",
    "    - locs: np.array, shape [N, 2]\n",
    "    - year1: np.array, shape [N]\n",
    "    - year2: np.array, shape [N]\n",
    "    - group_labels: np.array, shape [N]\n",
    "    - weights: np.array, shape [N]\n",
    "    '''\n",
    "    test_preds = np.zeros(len(labels), dtype=np.float32)\n",
    "    do_plot = True\n",
    "\n",
    "    ridge_weights = {}\n",
    "\n",
    "    for i, f in enumerate(FOLDS):\n",
    "        print('Fold:', f)\n",
    "        features = np.concatenate([\n",
    "            npzs[(bands, f)]['features'] for bands in bands_list\n",
    "        ], axis=1)\n",
    "\n",
    "        group_labels_cv = np.array(group_labels)  # make a copy\n",
    "        aug_labels = group_labels_cv[npairs:]\n",
    "        aug_labels[aug_labels != i] = -1\n",
    "\n",
    "        fold_mask = (group_labels == i)\n",
    "        test_preds[fold_mask], coefs, intercept = train_linear_logo(\n",
    "            features=features,\n",
    "            labels=labels,\n",
    "            group_labels=group_labels_cv,\n",
    "            cv_groups=[x for x in range(5) if x != i],\n",
    "            test_groups=[i],\n",
    "            weights=weights,\n",
    "            plot=do_plot,\n",
    "            group_names=FOLDS,\n",
    "            return_weights=True)\n",
    "        ridge_weights[f + '_w'] = coefs\n",
    "        ridge_weights[f + '_b'] = np.asarray([intercept])\n",
    "        do_plot = False\n",
    "\n",
    "    name = ''.join(bands_list) + '_concat'\n",
    "\n",
    "    # save preds on the test set\n",
    "    log_dir = os.path.join(base_dir, f'lsmsdelta_{name}')\n",
    "    os.makedirs(log_dir, exist_ok=True)\n",
    "    save_dict = dict(test_preds=test_preds, locs=locs, labels=labels,\n",
    "                     years1=years1, years2=years2)\n",
    "    if weights is not None:\n",
    "        save_dict['weights'] = weights\n",
    "    npz_path = os.path.join(log_dir, 'test_preds.npz')\n",
    "    np.savez_compressed(npz_path, **save_dict)\n",
    "    print('saving preds to:', npz_path)\n",
    "\n",
    "    # save model weights\n",
    "    weights_npz_path = os.path.join(log_dir, 'ridge_weights.npz')\n",
    "    np.savez_compressed(weights_npz_path, **ridge_weights)\n",
    "    print('saving weights to:', weights_npz_path)"
   ]
  },
  {
   "cell_type": "code",
   "execution_count": null,
   "metadata": {},
   "outputs": [],
   "source": [
    "def load_cv_test_preds(base_dir, bands_list, folds, countries, check=None):\n",
    "    bands = bands_list[0]\n",
    "    npz_path = os.path.join(base_dir, f'lsmsdelta_{bands}', 'test_preds.npz')\n",
    "    npz = load_npz(npz_path, check=check)\n",
    "\n",
    "    preds_df = pd.DataFrame(data={\n",
    "        'label': npz['labels'],\n",
    "        'fold': folds,\n",
    "        'country': countries,\n",
    "        'lat': npz['locs'][:, 0],\n",
    "        'lon': npz['locs'][:, 1],\n",
    "        'year1': npz['years1'],\n",
    "        'year2': npz['years2'],\n",
    "    })\n",
    "    if 'weights' in npz:\n",
    "        preds_df['weight'] = npz['weights']\n",
    "\n",
    "    check_keys = ['labels', 'locs', 'years1', 'years2']\n",
    "    if 'weights' in npz:\n",
    "        check_keys.append('weights')\n",
    "    check = {k: npz[k] for k in check_keys}\n",
    "    \n",
    "    for bands in bands_list:\n",
    "        npz_path = os.path.join(base_dir, f'lsmsdelta_{bands}', 'test_preds.npz')\n",
    "        npz = load_npz(npz_path, check=check)\n",
    "\n",
    "        col_name = 'preds_' + bands\n",
    "        preds_df[col_name] = npz['test_preds']\n",
    "\n",
    "    return preds_df"
   ]
  },
  {
   "cell_type": "code",
   "execution_count": null,
   "metadata": {},
   "outputs": [],
   "source": [
    "def get_images(tfrecord_paths):\n",
    "    '''\n",
    "    Args\n",
    "    - tfrecord_paths: list of str, length N <= 32, paths of TFRecord files\n",
    "\n",
    "    Returns: np.array, shape [N, 224, 224, 8], type float32\n",
    "    '''\n",
    "    lsms_batcher = batcher.Batcher(\n",
    "        tfrecord_files=tfrecord_paths,\n",
    "        dataset='LSMS',\n",
    "        batch_size=32,\n",
    "        ls_bands='ms',\n",
    "        nl_band='merge',\n",
    "        label_name='wealthpooled',\n",
    "        shuffle=False,\n",
    "        augment=False,\n",
    "        negatives='zero',\n",
    "        normalize=True)\n",
    "    init_iter, batch_op = lsms_batcher.get_batch()\n",
    "    with tf.Session() as sess:\n",
    "        sess.run(init_iter)\n",
    "        images = sess.run(batch_op['images'])\n",
    "    return images"
   ]
  },
  {
   "cell_type": "code",
   "execution_count": null,
   "metadata": {},
   "outputs": [],
   "source": [
    "def plot_images_by_delta(images1, images2, order, labels_col, preds_col, df):\n",
    "    '''\n",
    "    Args\n",
    "    - images1, images2: np.array, shape [K, 224, 224, 8]\n",
    "    - order: str, one of ['highest', 'lowest']\n",
    "    - df: pd.DataFrame, rows are sorted by some metric in the given order\n",
    "        - columns: 'lat', 'lon', 'country', 'year1', 'year2', 'households', 'country', labels_col, preds_col\n",
    "    '''\n",
    "    cols = ['lat', 'lon', 'year1', 'year2', 'households', 'country'] + [labels_col, preds_col]\n",
    "    for k in range(len(images1)):\n",
    "        lat, lon, y1, y2, h, country, label, pred = df.iloc[k][cols]\n",
    "        perc_error = (pred - label) * 100 / label\n",
    "\n",
    "        print(f'{k+1}-th {order}')\n",
    "        print(f'label={label:.06f}, pred={pred:.06f}, % error={perc_error:.2f}')\n",
    "        print(f'loc = {country} ({lat:.06f}, {lon:.06f}), {h:d} households, {y1} to {y2}')\n",
    "        for img, y in [(images1[k], y1), (images2[k], y2)]:\n",
    "            band_order = list(BAND_ORDER)  # make a copy\n",
    "            band_order[-1] = 'DMSP' if y < 2012 else 'VIIRS'\n",
    "            plot_image_by_band(img, band_order, nrows=1, title=None, rgb='merge')"
   ]
  },
  {
   "cell_type": "code",
   "execution_count": null,
   "metadata": {},
   "outputs": [],
   "source": [
    "def plot_projection(features, labels=None, country_indices=None, pca_dim=30, proj='pca',\n",
    "                    standardize=True, ax=None, cbar_name=None, title=None):\n",
    "    '''\n",
    "    Args\n",
    "    - features: np.array, shape [N, feature_dim]\n",
    "    - labels: np.array, shape [N]\n",
    "    - country_indices: dict, country (str) => np.array, shape [num_per_country]\n",
    "    - pca_dim: int\n",
    "    - proj: str, one of ['pca', 'tsne']\n",
    "    - standardize: bool\n",
    "    - ax: matplotlib.axes.Axes\n",
    "    - cbar_name: str, label for colorbar\n",
    "    - title: str, title for axes\n",
    "    '''\n",
    "    X = np.array(features, copy=True)  # make a copy\n",
    "    if standardize:\n",
    "        scaler = StandardScaler()\n",
    "        X = scaler.fit_transform(X)\n",
    "\n",
    "    if (proj != 'pca') and (X.shape[1] > pca_dim):\n",
    "        pca = PCA(n_components=pca_dim, whiten=False)\n",
    "        X = pca.fit_transform(X)\n",
    "\n",
    "    if proj == 'pca':\n",
    "        pca = PCA(n_components=2, whiten=False)\n",
    "        X = pca.fit_transform(X)\n",
    "    elif proj == 'tsne':\n",
    "        tsne = TSNE(n_components=2)\n",
    "        print('running TSNE...', end='')\n",
    "        start = time.time()\n",
    "        X = tsne.fit_transform(X=X)\n",
    "        elapsed = time.time() - start\n",
    "        print(f'TSNE finished in {elapsed:.1f} seconds.')\n",
    "\n",
    "    if ax is None:\n",
    "        fig, ax = plt.subplots(1, 1, figsize=(5, 5))\n",
    "    else:\n",
    "        fig = ax.get_figure()\n",
    "    ax.set_aspect('equal')\n",
    "    ax.set_title(title)\n",
    "\n",
    "    if labels is not None:\n",
    "        im = ax.scatter(X[:, 0], X[:, 1], c=labels, s=2)\n",
    "        if cbar_name is not None:\n",
    "            cbar = fig.colorbar(im, ax=ax)\n",
    "            cbar.set_label(cbar_name)\n",
    "    elif country_indices is not None:\n",
    "        for country, idxs in country_indices.items():\n",
    "            ax.scatter(X[idxs, 0], X[idxs, 1], label=country, s=2)"
   ]
  },
  {
   "cell_type": "markdown",
   "metadata": {},
   "source": [
    "# LSMSDeltaIncountry"
   ]
  },
  {
   "cell_type": "markdown",
   "metadata": {},
   "source": [
    "## Load saved preds + features"
   ]
  },
  {
   "cell_type": "code",
   "execution_count": null,
   "metadata": {},
   "outputs": [],
   "source": [
    "BASE_DIR = os.path.join(LOGS_ROOT_DIR, 'LSMSDeltaIncountry')\n",
    "MODELS = {\n",
    "    ('ms', 'A'): 'LSMSDeltaIncountryA_bidir_18preact_ms_random_b64_fc001_conv001_lr0001',\n",
    "    ('ms', 'B'): 'LSMSDeltaIncountryB_bidir_18preact_ms_random_b64_fc01_conv01_lr0001',\n",
    "    ('ms', 'C'): 'LSMSDeltaIncountryC_bidir_18preact_ms_random_b64_fc01_conv01_lr0001',\n",
    "    ('ms', 'D'): 'LSMSDeltaIncountryD_bidir_18preact_ms_random_b64_fc1_conv1_lr0001',\n",
    "    ('ms', 'E'): 'LSMSDeltaIncountryE_bidir_18preact_ms_random_b64_fc001_conv001_lr0001',\n",
    "    ('msnl', 'A'): 'LSMSDeltaIncountryA_bidir_18preact_msnl_random_b64_fc001_conv001_lr0001',\n",
    "    ('msnl', 'B'): 'LSMSDeltaIncountryB_bidir_18preact_msnl_random_b64_fc01_conv01_lr0001',\n",
    "    ('msnl', 'C'): 'LSMSDeltaIncountryC_bidir_18preact_msnl_random_b64_fc001_conv001_lr0001',\n",
    "    ('msnl', 'D'): 'LSMSDeltaIncountryD_bidir_18preact_msnl_random_b64_fc1_conv1_lr0001',\n",
    "    ('msnl', 'E'): 'LSMSDeltaIncountryE_bidir_18preact_msnl_random_b64_fc1_conv1_lr0001',\n",
    "    ('nl', 'A'): 'LSMSDeltaIncountryA_bidir_18preact_nl_random_b64_fc001_conv001_lr0001',\n",
    "    ('nl', 'B'): 'LSMSDeltaIncountryB_bidir_18preact_nl_random_b64_fc01_conv01_lr0001',\n",
    "    ('nl', 'C'): 'LSMSDeltaIncountryC_bidir_18preact_nl_random_b64_fc001_conv001_lr0001',\n",
    "    ('nl', 'D'): 'LSMSDeltaIncountryD_bidir_18preact_nl_random_b64_fc01_conv01_lr0001',\n",
    "    ('nl', 'E'): 'LSMSDeltaIncountryE_bidir_18preact_nl_random_b64_fc001_conv001_lr0001',\n",
    "}"
   ]
  },
  {
   "cell_type": "code",
   "execution_count": null,
   "metadata": {},
   "outputs": [],
   "source": [
    "npzs = {\n",
    "    model: load_npz(os.path.join(BASE_DIR, model_dir, 'features.npz'),\n",
    "                    check=dict(locs=locs_aug, labels=labels_doi_aug, years1=years1_aug,\n",
    "                               years2=years2_aug, weights=weights_aug))\n",
    "    for model, model_dir in MODELS.items()\n",
    "}"
   ]
  },
  {
   "cell_type": "code",
   "execution_count": null,
   "metadata": {},
   "outputs": [],
   "source": [
    "test_preds_df = load_test_preds(npzs, labels_aug=labels_doi_aug, bands_list=['ms', 'msnl', 'nl'])\n",
    "with pd.option_context('display.max_rows', 4):\n",
    "    display(test_preds_df)"
   ]
  },
  {
   "cell_type": "markdown",
   "metadata": {},
   "source": [
    "## PCA & t-SNE features"
   ]
  },
  {
   "cell_type": "code",
   "execution_count": null,
   "metadata": {},
   "outputs": [],
   "source": [
    "fig, axs = plt.subplots(1, 5, sharey=True, figsize=(15, 4))\n",
    "for i, f in enumerate(FOLDS):\n",
    "    ax = axs[i]\n",
    "    npz = npzs[('msnl', f)]\n",
    "    plot_projection(\n",
    "        features=npz['features'][:npairs],\n",
    "        labels=npz['labels'][:npairs],\n",
    "        proj='pca',\n",
    "        ax=ax,\n",
    "        cbar_name=None if i < 4 else 'label',\n",
    "        title=f'Fold {f}')\n",
    "fig.suptitle('PCA features')\n",
    "fig.tight_layout()\n",
    "plt.show()"
   ]
  },
  {
   "cell_type": "code",
   "execution_count": null,
   "metadata": {},
   "outputs": [],
   "source": [
    "fig, axs = plt.subplots(1, 5, sharey=True, figsize=(15, 4))\n",
    "for i, f in enumerate(FOLDS):\n",
    "    ax = axs[i]\n",
    "    npz = npzs[('msnl', f)]\n",
    "    plot_projection(\n",
    "        features=npz['features'][:npairs],\n",
    "        country_indices=country_indices,\n",
    "        proj='pca',\n",
    "        ax=ax,\n",
    "        title=f'Fold {f}')\n",
    "axs[-1].legend(loc='center left', bbox_to_anchor=(1, 0.5))\n",
    "fig.suptitle('PCA features')\n",
    "fig.tight_layout()\n",
    "plt.show()"
   ]
  },
  {
   "cell_type": "code",
   "execution_count": null,
   "metadata": {},
   "outputs": [],
   "source": [
    "fig, axs = plt.subplots(1, 5, sharey=True, figsize=(15, 4))\n",
    "for i, f in enumerate(FOLDS):\n",
    "    ax = axs[i]\n",
    "    npz = npzs[('msnl', f)]\n",
    "    plot_projection(\n",
    "        features=npz['features'][:npairs],\n",
    "        labels=npz['labels'][:npairs],\n",
    "        proj='tsne',\n",
    "        ax=ax,\n",
    "        cbar_name=None if i < 4 else 'label',\n",
    "        title=f'Fold {f}')\n",
    "fig.suptitle('T-SNE features')\n",
    "fig.tight_layout()\n",
    "plt.show()"
   ]
  },
  {
   "cell_type": "code",
   "execution_count": null,
   "metadata": {},
   "outputs": [],
   "source": [
    "fig, axs = plt.subplots(1, 5, sharey=True, figsize=(15, 4))\n",
    "for i, f in enumerate(FOLDS):\n",
    "    ax = axs[i]\n",
    "    npz = npzs[('msnl', f)]\n",
    "    plot_projection(\n",
    "        features=npz['features'][:npairs],\n",
    "        country_indices=country_indices,\n",
    "        proj='tsne',\n",
    "        ax=ax,\n",
    "        title=f'Fold {f}')\n",
    "axs[-1].legend(loc='center left', bbox_to_anchor=(1, 0.5))\n",
    "fig.suptitle('T-SNE features', y=1.02)\n",
    "fig.tight_layout()\n",
    "plt.show()"
   ]
  },
  {
   "cell_type": "markdown",
   "metadata": {},
   "source": [
    "## Evaluate"
   ]
  },
  {
   "cell_type": "code",
   "execution_count": null,
   "metadata": {},
   "outputs": [],
   "source": [
    "print_regression_results_by_range(test_preds_df, forward_range, backward_range, zero_range)"
   ]
  },
  {
   "cell_type": "code",
   "execution_count": null,
   "metadata": {},
   "outputs": [],
   "source": [
    "print_regression_results_by_range(test_preds_df, forward_range, backward_range, zero_range,\n",
    "                                  weighted=True)"
   ]
  },
  {
   "cell_type": "code",
   "execution_count": null,
   "metadata": {},
   "outputs": [],
   "source": [
    "scatterplot_by_country(test_preds_df, col='preds_ms', named_ranges=named_ranges)"
   ]
  },
  {
   "cell_type": "code",
   "execution_count": null,
   "metadata": {},
   "outputs": [],
   "source": [
    "scatterplot_by_country(test_preds_df, col='preds_ms', named_ranges=named_ranges)"
   ]
  },
  {
   "cell_type": "code",
   "execution_count": null,
   "metadata": {},
   "outputs": [],
   "source": [
    "r2_per_band(test_preds_df, named_ranges=[('forward', forward_range)],\n",
    "            by=['country', 'year1', 'year2'], weighted=True)"
   ]
  },
  {
   "cell_type": "code",
   "execution_count": null,
   "metadata": {},
   "outputs": [],
   "source": [
    "r2_per_band(test_preds_df, named_ranges, by='fold', weighted=True)\n",
    "r2_per_band(test_preds_df, named_ranges, by='country', weighted=True)"
   ]
  },
  {
   "cell_type": "markdown",
   "metadata": {},
   "source": [
    "## Fine Tune Final Layer with Cross-Validation"
   ]
  },
  {
   "cell_type": "code",
   "execution_count": null,
   "metadata": {},
   "outputs": [],
   "source": [
    "run_ridgecv_incountry(\n",
    "    npzs=npzs, models_dict=MODELS, base_dir=BASE_DIR,\n",
    "    bands='ms',\n",
    "    labels=labels_doi_aug,\n",
    "    locs=locs_aug,\n",
    "    years1=years1_aug,\n",
    "    years2=years2_aug,\n",
    "    group_labels=incountry_group_labels_aug,\n",
    "    weights=weights_aug)"
   ]
  },
  {
   "cell_type": "code",
   "execution_count": null,
   "metadata": {},
   "outputs": [],
   "source": [
    "run_ridgecv_incountry(\n",
    "    npzs=npzs, models_dict=MODELS, base_dir=BASE_DIR,\n",
    "    bands='msnl',\n",
    "    labels=labels_doi_aug,\n",
    "    locs=locs_aug,\n",
    "    years1=years1_aug,\n",
    "    years2=years2_aug,\n",
    "    group_labels=incountry_group_labels_aug,\n",
    "    weights=weights_aug)"
   ]
  },
  {
   "cell_type": "code",
   "execution_count": null,
   "metadata": {},
   "outputs": [],
   "source": [
    "run_ridgecv_incountry(\n",
    "    npzs=npzs, models_dict=MODELS, base_dir=BASE_DIR,\n",
    "    bands='nl',\n",
    "    labels=labels_doi_aug,\n",
    "    locs=locs_aug,\n",
    "    years1=years1_aug,\n",
    "    years2=years2_aug,\n",
    "    group_labels=incountry_group_labels_aug,\n",
    "    weights=weights_aug)"
   ]
  },
  {
   "cell_type": "code",
   "execution_count": null,
   "metadata": {},
   "outputs": [],
   "source": [
    "run_ridgecv_incountry_concat(\n",
    "    npzs=npzs, models_dict=MODELS, base_dir=BASE_DIR,\n",
    "    bands_list=['ms', 'nl'],\n",
    "    labels=labels_doi_aug,\n",
    "    locs=locs_aug,\n",
    "    years1=years1_aug,\n",
    "    years2=years2_aug,\n",
    "    group_labels=incountry_group_labels_aug,\n",
    "    weights=weights_aug)"
   ]
  },
  {
   "cell_type": "code",
   "execution_count": null,
   "metadata": {},
   "outputs": [],
   "source": [
    "test_preds_df = load_cv_test_preds(\n",
    "    base_dir=BASE_DIR,\n",
    "    bands_list=['ms', 'msnl', 'nl', 'msnl_concat'],\n",
    "    folds=test_preds_df['fold'].values,\n",
    "    countries=test_preds_df['country'].values,\n",
    "    check=dict(labels=labels_doi_aug, locs=locs_aug, weights=weights_aug, years1=years1_aug, years2=years2_aug))"
   ]
  },
  {
   "cell_type": "code",
   "execution_count": null,
   "metadata": {},
   "outputs": [],
   "source": [
    "with pd.option_context('display.max_rows', 4):\n",
    "    display(test_preds_df)"
   ]
  },
  {
   "cell_type": "code",
   "execution_count": null,
   "metadata": {},
   "outputs": [],
   "source": [
    "forward_preds_df = test_preds_df.loc[slice(*forward_range)]\n",
    "csv_path = os.path.join('../model_analysis', 'lsmsdelta_preds_incountry.csv')\n",
    "# forward_preds_df.to_csv(csv_path, index=False)"
   ]
  },
  {
   "cell_type": "markdown",
   "metadata": {},
   "source": [
    "## Evaluate"
   ]
  },
  {
   "cell_type": "code",
   "execution_count": null,
   "metadata": {},
   "outputs": [],
   "source": [
    "print_regression_results_by_range(test_preds_df, forward_range, backward_range, zero_range)"
   ]
  },
  {
   "cell_type": "code",
   "execution_count": null,
   "metadata": {},
   "outputs": [],
   "source": [
    "print_regression_results_by_range(test_preds_df, forward_range, backward_range, zero_range,\n",
    "                                  weighted=True)"
   ]
  },
  {
   "cell_type": "code",
   "execution_count": null,
   "metadata": {},
   "outputs": [],
   "source": [
    "scatterplot_by_country(test_preds_df, col='preds_msnl', named_ranges=named_ranges)"
   ]
  },
  {
   "cell_type": "code",
   "execution_count": null,
   "metadata": {},
   "outputs": [],
   "source": [
    "r2_per_band(test_preds_df, named_ranges, by='fold', show_first_df=True, weighted=True)\n",
    "r2_per_band(test_preds_df, named_ranges=[('forward', forward_range)],\n",
    "            by=['country', 'year1', 'year2'], show_first_df=True, weighted=True)\n",
    "r2_per_band(test_preds_df, named_ranges=[('forward', forward_range)],\n",
    "            by='country', show_first_df=True, weighted=True)"
   ]
  },
  {
   "cell_type": "code",
   "execution_count": null,
   "metadata": {},
   "outputs": [],
   "source": [
    "results_bycountryfold_df = (\n",
    "    forward_preds_df\n",
    "    .groupby(['country', 'fold', 'year1', 'year2'])\n",
    "    .apply(evaluate_df, cols=['preds_ms', 'preds_msnl', 'preds_nl']))\n",
    "colordisplay(results_bycountryfold_df)"
   ]
  },
  {
   "cell_type": "markdown",
   "metadata": {},
   "source": [
    "## Effect of household size"
   ]
  },
  {
   "cell_type": "code",
   "execution_count": null,
   "metadata": {},
   "outputs": [],
   "source": [
    "forward_df = pd.merge(forward_preds_df, delta_pairs_df, on=['lat', 'lon', 'country', 'year1', 'year2'])\n",
    "forward_df['residual'] = forward_df['label'] - forward_df['preds_ms']\n",
    "ax = forward_df.plot(kind='scatter', x='households', y='residual')\n",
    "ax.grid(True)"
   ]
  },
  {
   "cell_type": "code",
   "execution_count": null,
   "metadata": {},
   "outputs": [],
   "source": [
    "R2s = []\n",
    "r2s = []\n",
    "mses = []\n",
    "hs = sorted(forward_df['households'].unique())\n",
    "for i, h in enumerate(hs):\n",
    "    selection = forward_df.loc[forward_df['households'] >= h, :]\n",
    "    R2 = calc_score(selection['label'], selection['preds_ms'], weights=selection['weight'], metric='R2')\n",
    "    r2 = calc_score(selection['label'], selection['preds_ms'], weights=selection['weight'], metric='r2')\n",
    "    mse = calc_score(selection['label'], selection['preds_ms'], weights=selection['weight'], metric='mse')\n",
    "    R2s.append(R2)\n",
    "    r2s.append(r2)\n",
    "    mses.append(mse)\n",
    "\n",
    "    if i % 4 == 0:\n",
    "        fig, ax = plt.subplots(1, 1)\n",
    "        ax.scatter(selection['label'], selection['preds_ms'], s=2, label=f'$r^2$={r2:.3f}')\n",
    "        ax.set(xlabel='label', ylabel='pred', title=f'households $\\geq$ {h:.2f}')\n",
    "        ax.set_aspect('equal')\n",
    "        ax.grid(True)\n",
    "        ax.legend()\n",
    "        plt.show()\n",
    "        plt.close()\n",
    "\n",
    "fig, ax = plt.subplots(1, 1)\n",
    "ax.plot(hs, r2s, label='$r^2$')\n",
    "ax.plot(hs, mses, label='mse')\n",
    "ax.legend()\n",
    "ax.grid(True)\n",
    "ax.set(xlabel=r'# households $\\geq x$', ylabel='score')\n",
    "plt.show()"
   ]
  },
  {
   "cell_type": "code",
   "execution_count": null,
   "metadata": {},
   "outputs": [],
   "source": [
    "display(forward_df.iloc[:5])\n",
    "print(len(forward_df))\n",
    "print(forward_df['households'].min())"
   ]
  },
  {
   "cell_type": "code",
   "execution_count": null,
   "metadata": {},
   "outputs": [],
   "source": [
    "min_hs = np.arange(1, 14, 2)\n",
    "min_absdeltas = np.arange(0, 2, 0.25)\n",
    "\n",
    "r2s = np.zeros([len(min_hs), len(min_absdeltas)])\n",
    "\n",
    "for i, min_h in enumerate(min_hs):\n",
    "    for j, min_absdelta in enumerate(min_absdeltas):\n",
    "        mask = (forward_df['households'] >= min_h) & (forward_df['deltaofindex'].abs() >= min_absdelta)\n",
    "        if (min_h == 1) and (min_absdelta == 0):\n",
    "            assert mask.all()\n",
    "        tmp = forward_df.loc[mask, :]\n",
    "        if len(tmp) == 0: continue\n",
    "        r2 = calc_score(labels=tmp['label'], preds=tmp['preds_ms'], weights=tmp['weight'], metric='r2')\n",
    "        r2s[i, j] = r2"
   ]
  },
  {
   "cell_type": "code",
   "execution_count": null,
   "metadata": {},
   "outputs": [],
   "source": [
    "fig, ax = plt.subplots(1, 1)\n",
    "for j, min_absdelta in enumerate(min_absdeltas):\n",
    "    ax.plot(min_hs, r2s[:, j], label=str(min_absdelta))\n",
    "ax.set(xlabel='min. # households', ylabel='$r^2$')\n",
    "ax.legend(title='min. |delta|', loc='center left', bbox_to_anchor=(1, 0.5))\n",
    "ax.grid(True)"
   ]
  },
  {
   "cell_type": "code",
   "execution_count": null,
   "metadata": {},
   "outputs": [],
   "source": [
    "fig, ax = plt.subplots(1, 1)\n",
    "for i, min_h in enumerate(min_hs):\n",
    "    ax.plot(min_absdeltas, r2s[i], label=str(min_h))\n",
    "ax.set(xlabel='min. |delta|', ylabel='$r^2$')\n",
    "ax.legend(title='min. # households', loc='center left', bbox_to_anchor=(1, 0.5))\n",
    "ax.grid(True)"
   ]
  },
  {
   "cell_type": "markdown",
   "metadata": {},
   "source": [
    "## Visualize best and worst predictions\n",
    "\n",
    "Measure performance on each location as % error, relative to ground truth."
   ]
  },
  {
   "cell_type": "code",
   "execution_count": null,
   "metadata": {},
   "outputs": [],
   "source": [
    "# ONLY RUN THIS SECTION IF USING SAVED CSVS\n",
    "csv_path = os.path.join('../model_analysis', 'lsmsdelta_preds_incountry.csv')\n",
    "forward_preds_df = pd.read_csv(csv_path)\n",
    "forward_preds_df['lat'] = np.float32(forward_preds_df['lat'])\n",
    "forward_preds_df['lon'] = np.float32(forward_preds_df['lon'])\n",
    "\n",
    "forward_df = pd.merge(forward_preds_df, delta_pairs_df, on=['lat', 'lon', 'country', 'year1', 'year2'])\n",
    "forward_df['residual'] = forward_df['label'] - forward_df['preds_msnl']"
   ]
  },
  {
   "cell_type": "code",
   "execution_count": null,
   "metadata": {},
   "outputs": [],
   "source": [
    "tfrecord_paths = np.asarray(batcher.get_lsms_tfrecord_paths(dataset_constants.SURVEY_NAMES['LSMS']))\n",
    "K = 5"
   ]
  },
  {
   "cell_type": "code",
   "execution_count": null,
   "metadata": {},
   "outputs": [],
   "source": [
    "print('Largest pred:', forward_df['preds_msnl'].abs().max())\n",
    "\n",
    "top_k = forward_df['preds_msnl'].abs().sort_values().index[-1:-K-1:-1]\n",
    "display(forward_df.loc[top_k])\n",
    "\n",
    "paired_indices = forward_df.loc[top_k, ['tfrecords_index.x', 'tfrecords_index.y']].values\n",
    "images1 = get_images(tfrecord_paths[paired_indices[:, 0]])\n",
    "images2 = get_images(tfrecord_paths[paired_indices[:, 1]])"
   ]
  },
  {
   "cell_type": "code",
   "execution_count": null,
   "metadata": {},
   "outputs": [],
   "source": [
    "plot_images_by_delta(\n",
    "    images1, images2,\n",
    "    order='largest abs. pred (delta-of-index)',\n",
    "    labels_col='deltaofindex',\n",
    "    preds_col='preds_msnl',\n",
    "    df=forward_df.loc[top_k])"
   ]
  },
  {
   "cell_type": "code",
   "execution_count": null,
   "metadata": {},
   "outputs": [],
   "source": [
    "perc_error = (forward_df['preds_msnl'] - forward_df['label']) / forward_df['label']\n",
    "print('lowest % error:', perc_error.abs().min() * 100)\n",
    "\n",
    "best_k = perc_error.abs().sort_values().index[:K]\n",
    "display(forward_df.loc[top_k])\n",
    "\n",
    "paired_indices = forward_df.loc[best_k, ['tfrecords_index.x', 'tfrecords_index.y']].values\n",
    "images1 = get_images(tfrecord_paths[paired_indices[:, 0]])\n",
    "images2 = get_images(tfrecord_paths[paired_indices[:, 1]])"
   ]
  },
  {
   "cell_type": "code",
   "execution_count": null,
   "metadata": {},
   "outputs": [],
   "source": [
    "plot_images_by_delta(\n",
    "    images1, images2,\n",
    "    order='lowest % error (delta-of-index)',\n",
    "    labels_col='deltaofindex',\n",
    "    preds_col='preds_msnl',\n",
    "    df=forward_df.loc[best_k])"
   ]
  },
  {
   "cell_type": "markdown",
   "metadata": {},
   "source": [
    "# LSMSIndexOfDeltaIncountry"
   ]
  },
  {
   "cell_type": "markdown",
   "metadata": {},
   "source": [
    "## Load saved preds + features"
   ]
  },
  {
   "cell_type": "code",
   "execution_count": null,
   "metadata": {},
   "outputs": [],
   "source": [
    "BASE_DIR = os.path.join(LOGS_ROOT_DIR, 'LSMSIndexOfDeltaIncountry')\n",
    "MODELS = {\n",
    "    ('ms', 'A'): 'LSMSIndexOfDeltaIncountryA_bidir_18preact_ms_random_b64_fc1_conv1_lr0001',\n",
    "    ('ms', 'B'): 'LSMSIndexOfDeltaIncountryB_bidir_18preact_ms_random_b64_fc1_conv1_lr0001',\n",
    "    ('ms', 'C'): 'LSMSIndexOfDeltaIncountryC_bidir_18preact_ms_random_b64_fc1_conv1_lr0001',\n",
    "    ('ms', 'D'): 'LSMSIndexOfDeltaIncountryD_bidir_18preact_ms_random_b64_fc1_conv1_lr0001',\n",
    "    ('ms', 'E'): 'LSMSIndexOfDeltaIncountryE_bidir_18preact_ms_random_b64_fc01_conv01_lr0001',\n",
    "    ('msnl', 'A'): 'LSMSIndexOfDeltaIncountryA_bidir_18preact_msnl_random_b64_fc001_conv001_lr0001',\n",
    "    ('msnl', 'B'): 'LSMSIndexOfDeltaIncountryB_bidir_18preact_msnl_random_b64_fc01_conv01_lr0001',\n",
    "    ('msnl', 'C'): 'LSMSIndexOfDeltaIncountryC_bidir_18preact_msnl_random_b64_fc1_conv1_lr0001',\n",
    "    ('msnl', 'D'): 'LSMSIndexOfDeltaIncountryD_bidir_18preact_msnl_random_b64_fc1_conv1_lr0001',\n",
    "    ('msnl', 'E'): 'LSMSIndexOfDeltaIncountryE_bidir_18preact_msnl_random_b64_fc1_conv1_lr0001',\n",
    "    ('nl', 'A'): 'LSMSIndexOfDeltaIncountryA_bidir_18preact_nl_random_b64_fc001_conv001_lr0001',\n",
    "    ('nl', 'B'): 'LSMSIndexOfDeltaIncountryB_bidir_18preact_nl_random_b64_fc001_conv001_lr0001',\n",
    "    ('nl', 'C'): 'LSMSIndexOfDeltaIncountryC_bidir_18preact_nl_random_b64_fc01_conv01_lr0001',\n",
    "    ('nl', 'D'): 'LSMSIndexOfDeltaIncountryD_bidir_18preact_nl_random_b64_fc1_conv1_lr0001',\n",
    "    ('nl', 'E'): 'LSMSIndexOfDeltaIncountryE_bidir_18preact_nl_random_b64_fc01_conv01_lr0001',\n",
    "}"
   ]
  },
  {
   "cell_type": "code",
   "execution_count": null,
   "metadata": {},
   "outputs": [],
   "source": [
    "npzs = {\n",
    "    model: load_npz(os.path.join(BASE_DIR, model_dir, 'features.npz'),\n",
    "                    check=dict(locs=locs_aug, labels=labels_iod_aug, years1=years1_aug,\n",
    "                               years2=years2_aug, weights=weights_aug))\n",
    "    for model, model_dir in MODELS.items()\n",
    "}"
   ]
  },
  {
   "cell_type": "code",
   "execution_count": null,
   "metadata": {},
   "outputs": [],
   "source": [
    "test_preds_df = load_test_preds(npzs, labels_aug=labels_iod_aug, bands_list=['ms', 'msnl', 'nl'])\n",
    "with pd.option_context('display.max_rows', 4):\n",
    "    display(test_preds_df)"
   ]
  },
  {
   "cell_type": "markdown",
   "metadata": {},
   "source": [
    "## PCA & t-SNE features"
   ]
  },
  {
   "cell_type": "code",
   "execution_count": null,
   "metadata": {},
   "outputs": [],
   "source": [
    "fig, axs = plt.subplots(1, 5, sharey=True, figsize=(15, 4))\n",
    "for i, f in enumerate(FOLDS):\n",
    "    ax = axs[i]\n",
    "    npz = npzs[('msnl', f)]\n",
    "    plot_projection(\n",
    "        features=npz['features'][:npairs],\n",
    "        labels=npz['labels'][:npairs],\n",
    "        proj='pca',\n",
    "        ax=ax,\n",
    "        cbar_name=None if i < 4 else 'label',\n",
    "        title=f'Fold {f}')\n",
    "fig.suptitle('PCA features')\n",
    "fig.tight_layout()\n",
    "plt.show()"
   ]
  },
  {
   "cell_type": "code",
   "execution_count": null,
   "metadata": {},
   "outputs": [],
   "source": [
    "fig, axs = plt.subplots(1, 5, sharey=True, figsize=(15, 4))\n",
    "for i, f in enumerate(FOLDS):\n",
    "    ax = axs[i]\n",
    "    npz = npzs[('msnl', f)]\n",
    "    plot_projection(\n",
    "        features=npz['features'][:npairs],\n",
    "        country_indices=country_indices,\n",
    "        proj='pca',\n",
    "        ax=ax,\n",
    "        title=f'Fold {f}')\n",
    "axs[-1].legend(loc='center left', bbox_to_anchor=(1, 0.5))\n",
    "fig.suptitle('PCA features')\n",
    "fig.tight_layout()\n",
    "plt.show()"
   ]
  },
  {
   "cell_type": "code",
   "execution_count": null,
   "metadata": {},
   "outputs": [],
   "source": [
    "fig, axs = plt.subplots(1, 5, sharey=True, figsize=(15, 4))\n",
    "for i, f in enumerate(FOLDS):\n",
    "    ax = axs[i]\n",
    "    npz = npzs[('msnl', f)]\n",
    "    plot_projection(\n",
    "        features=npz['features'][:npairs],\n",
    "        labels=npz['labels'][:npairs],\n",
    "        proj='tsne',\n",
    "        ax=ax,\n",
    "        cbar_name=None if i < 4 else 'label',\n",
    "        title=f'Fold {f}')\n",
    "fig.suptitle('T-SNE features')\n",
    "fig.tight_layout()\n",
    "plt.show()"
   ]
  },
  {
   "cell_type": "code",
   "execution_count": null,
   "metadata": {},
   "outputs": [],
   "source": [
    "fig, axs = plt.subplots(1, 5, sharey=True, figsize=(15, 4))\n",
    "for i, f in enumerate(FOLDS):\n",
    "    ax = axs[i]\n",
    "    npz = npzs[('msnl', f)]\n",
    "    plot_projection(\n",
    "        features=npz['features'][:npairs],\n",
    "        country_indices=country_indices,\n",
    "        proj='tsne',\n",
    "        ax=ax,\n",
    "        title=f'Fold {f}')\n",
    "axs[-1].legend(loc='center left', bbox_to_anchor=(1, 0.5))\n",
    "fig.suptitle('T-SNE features', y=1.02)\n",
    "fig.tight_layout()\n",
    "plt.show()"
   ]
  },
  {
   "cell_type": "code",
   "execution_count": null,
   "metadata": {},
   "outputs": [],
   "source": [
    "# forward-direction, training examples only\n",
    "fig, axs = plt.subplots(1, 5, sharey=True, figsize=(15, 4))\n",
    "for i, f in enumerate(FOLDS):\n",
    "    ax = axs[i]\n",
    "    npz = npzs[('msnl', f)]\n",
    "    country_indices_train = {\n",
    "        country: np.flatnonzero(delta_pairs_df['country'].values[incountry_train_masks[f]] == country)\n",
    "        for country in LSMS_COUNTRIES\n",
    "    }\n",
    "    plot_projection(\n",
    "        features=npz['features'][:npairs][incountry_train_masks[f]],\n",
    "        country_indices=country_indices_train,\n",
    "        proj='tsne',\n",
    "        ax=ax,\n",
    "        title=f'Fold {f}')\n",
    "axs[-1].legend(loc='center left', bbox_to_anchor=(1, 0.5))\n",
    "fig.suptitle('T-SNE features', y=1.02)\n",
    "fig.tight_layout()\n",
    "plt.show()"
   ]
  },
  {
   "cell_type": "markdown",
   "metadata": {},
   "source": [
    "## Evaluate"
   ]
  },
  {
   "cell_type": "code",
   "execution_count": null,
   "metadata": {},
   "outputs": [],
   "source": [
    "print_regression_results_by_range(test_preds_df, forward_range, backward_range, zero_range)"
   ]
  },
  {
   "cell_type": "code",
   "execution_count": null,
   "metadata": {},
   "outputs": [],
   "source": [
    "print_regression_results_by_range(test_preds_df, forward_range, backward_range, zero_range,\n",
    "                                  weighted=True)"
   ]
  },
  {
   "cell_type": "code",
   "execution_count": null,
   "metadata": {},
   "outputs": [],
   "source": [
    "scatterplot_by_country(test_preds_df, col='preds_ms', named_ranges=named_ranges)"
   ]
  },
  {
   "cell_type": "code",
   "execution_count": null,
   "metadata": {},
   "outputs": [],
   "source": [
    "scatterplot_by_country(test_preds_df, col='preds_ms', named_ranges=named_ranges)"
   ]
  },
  {
   "cell_type": "code",
   "execution_count": null,
   "metadata": {},
   "outputs": [],
   "source": [
    "r2_per_band(test_preds_df, named_ranges=[('forward', forward_range)],\n",
    "            by=['country', 'year1', 'year2'], weighted=True)"
   ]
  },
  {
   "cell_type": "code",
   "execution_count": null,
   "metadata": {},
   "outputs": [],
   "source": [
    "r2_per_band(test_preds_df, named_ranges, by='fold', weighted=True)\n",
    "r2_per_band(test_preds_df, named_ranges, by='country', weighted=True)"
   ]
  },
  {
   "cell_type": "markdown",
   "metadata": {},
   "source": [
    "## Fine Tune Final Layer with Cross-Validation"
   ]
  },
  {
   "cell_type": "code",
   "execution_count": null,
   "metadata": {},
   "outputs": [],
   "source": [
    "run_ridgecv_incountry(\n",
    "    npzs=npzs, models_dict=MODELS, base_dir=BASE_DIR,\n",
    "    bands='ms',\n",
    "    labels=labels_iod_aug,\n",
    "    locs=locs_aug,\n",
    "    years1=years1_aug,\n",
    "    years2=years2_aug,\n",
    "    group_labels=incountry_group_labels_aug,\n",
    "    weights=weights_aug)"
   ]
  },
  {
   "cell_type": "code",
   "execution_count": null,
   "metadata": {},
   "outputs": [],
   "source": [
    "run_ridgecv_incountry(\n",
    "    npzs=npzs, models_dict=MODELS, base_dir=BASE_DIR,\n",
    "    bands='msnl',\n",
    "    labels=labels_iod_aug,\n",
    "    locs=locs_aug,\n",
    "    years1=years1_aug,\n",
    "    years2=years2_aug,\n",
    "    group_labels=incountry_group_labels_aug,\n",
    "    weights=weights_aug)"
   ]
  },
  {
   "cell_type": "code",
   "execution_count": null,
   "metadata": {},
   "outputs": [],
   "source": [
    "run_ridgecv_incountry(\n",
    "    npzs=npzs, models_dict=MODELS, base_dir=BASE_DIR,\n",
    "    bands='nl',\n",
    "    labels=labels_iod_aug,\n",
    "    locs=locs_aug,\n",
    "    years1=years1_aug,\n",
    "    years2=years2_aug,\n",
    "    group_labels=incountry_group_labels_aug,\n",
    "    weights=weights_aug)"
   ]
  },
  {
   "cell_type": "code",
   "execution_count": null,
   "metadata": {},
   "outputs": [],
   "source": [
    "run_ridgecv_incountry_concat(\n",
    "    npzs=npzs, models_dict=MODELS, base_dir=BASE_DIR,\n",
    "    bands_list=['ms', 'nl'],\n",
    "    labels=labels_iod_aug,\n",
    "    locs=locs_aug,\n",
    "    years1=years1_aug,\n",
    "    years2=years2_aug,\n",
    "    group_labels=incountry_group_labels_aug,\n",
    "    weights=weights_aug)"
   ]
  },
  {
   "cell_type": "code",
   "execution_count": null,
   "metadata": {},
   "outputs": [],
   "source": [
    "test_preds_df = load_cv_test_preds(\n",
    "    base_dir=BASE_DIR,\n",
    "    bands_list=['ms', 'msnl', 'nl', 'msnl_concat'],\n",
    "    folds=test_preds_df['fold'].values,\n",
    "    countries=test_preds_df['country'].values,\n",
    "    check=dict(labels=labels_iod_aug, locs=locs_aug, weights=weights_aug, years1=years1_aug, years2=years2_aug))"
   ]
  },
  {
   "cell_type": "code",
   "execution_count": null,
   "metadata": {},
   "outputs": [],
   "source": [
    "with pd.option_context('display.max_rows', 4):\n",
    "    display(test_preds_df)"
   ]
  },
  {
   "cell_type": "code",
   "execution_count": null,
   "metadata": {},
   "outputs": [],
   "source": [
    "forward_preds_df = test_preds_df.loc[slice(*forward_range)]\n",
    "csv_path = os.path.join('../model_analysis', 'lsms_indexofdelta_preds_incountry.csv')\n",
    "# forward_preds_df.to_csv(csv_path, index=False)"
   ]
  },
  {
   "cell_type": "markdown",
   "metadata": {},
   "source": [
    "## Evaluate"
   ]
  },
  {
   "cell_type": "code",
   "execution_count": null,
   "metadata": {},
   "outputs": [],
   "source": [
    "print_regression_results_by_range(test_preds_df, forward_range, backward_range, zero_range)"
   ]
  },
  {
   "cell_type": "code",
   "execution_count": null,
   "metadata": {},
   "outputs": [],
   "source": [
    "print_regression_results_by_range(test_preds_df, forward_range, backward_range, zero_range,\n",
    "                                  weighted=True)"
   ]
  },
  {
   "cell_type": "code",
   "execution_count": null,
   "metadata": {},
   "outputs": [],
   "source": [
    "scatterplot_by_country(test_preds_df, col='preds_ms', named_ranges=named_ranges)"
   ]
  },
  {
   "cell_type": "code",
   "execution_count": null,
   "metadata": {},
   "outputs": [],
   "source": [
    "r2_per_band(test_preds_df, named_ranges, by='fold', show_first_df=True, weighted=True)\n",
    "r2_per_band(test_preds_df, named_ranges=[('forward', forward_range)],\n",
    "            by=['country', 'year1', 'year2'], show_first_df=True, weighted=True)\n",
    "r2_per_band(test_preds_df, named_ranges=[('forward', forward_range)],\n",
    "            by='country', show_first_df=True, weighted=True)"
   ]
  },
  {
   "cell_type": "code",
   "execution_count": null,
   "metadata": {},
   "outputs": [],
   "source": [
    "results_bycountryfold_df = (\n",
    "    forward_preds_df\n",
    "    .groupby(['country', 'fold', 'year1', 'year2'])\n",
    "    .apply(evaluate_df, cols=['preds_ms', 'preds_msnl', 'preds_nl']))\n",
    "colordisplay(results_bycountryfold_df)"
   ]
  },
  {
   "cell_type": "markdown",
   "metadata": {},
   "source": [
    "## Effect of household size"
   ]
  },
  {
   "cell_type": "code",
   "execution_count": null,
   "metadata": {},
   "outputs": [],
   "source": [
    "forward_df = pd.merge(forward_preds_df, delta_pairs_df, on=['lat', 'lon', 'country', 'year1', 'year2'])\n",
    "forward_df['residual'] = forward_df['label'] - forward_df['preds_ms']\n",
    "ax = forward_df.plot(kind='scatter', x='households', y='residual')\n",
    "ax.grid(True)"
   ]
  },
  {
   "cell_type": "code",
   "execution_count": null,
   "metadata": {},
   "outputs": [],
   "source": [
    "R2s = []\n",
    "r2s = []\n",
    "mses = []\n",
    "hs = sorted(forward_df['households'].unique())\n",
    "for i, h in enumerate(hs):\n",
    "    selection = forward_df.loc[forward_df['households'] >= h, :]\n",
    "    R2 = calc_score(selection['label'], selection['preds_ms'], weights=selection['weight'], metric='R2')\n",
    "    r2 = calc_score(selection['label'], selection['preds_ms'], weights=selection['weight'], metric='r2')\n",
    "    mse = calc_score(selection['label'], selection['preds_ms'], weights=selection['weight'], metric='mse')\n",
    "    R2s.append(R2)\n",
    "    r2s.append(r2)\n",
    "    mses.append(mse)\n",
    "\n",
    "    if i % 4 == 0:\n",
    "        fig, ax = plt.subplots(1, 1)\n",
    "        ax.scatter(selection['label'], selection['preds_ms'], s=2, label=f'$r^2$={r2:.3f}')\n",
    "        ax.set(xlabel='label', ylabel='pred', title=f'households $\\geq$ {h:.2f}')\n",
    "        ax.set_aspect('equal')\n",
    "        ax.grid(True)\n",
    "        ax.legend()\n",
    "        plt.show()\n",
    "        plt.close()\n",
    "\n",
    "fig, ax = plt.subplots(1, 1)\n",
    "ax.plot(hs, r2s, label='$r^2$')\n",
    "ax.plot(hs, mses, label='mse')\n",
    "ax.legend()\n",
    "ax.grid(True)\n",
    "ax.set(xlabel=r'# households $\\geq x$', ylabel='score')\n",
    "plt.show()"
   ]
  },
  {
   "cell_type": "code",
   "execution_count": null,
   "metadata": {},
   "outputs": [],
   "source": [
    "display(forward_df.iloc[:5])\n",
    "print(len(forward_df))\n",
    "print(forward_df['households'].min())"
   ]
  },
  {
   "cell_type": "code",
   "execution_count": null,
   "metadata": {},
   "outputs": [],
   "source": [
    "min_hs = np.arange(1, 14, 2)\n",
    "min_absdeltas = np.arange(0, 2, 0.25)\n",
    "\n",
    "r2s = np.zeros([len(min_hs), len(min_absdeltas)])\n",
    "\n",
    "for i, min_h in enumerate(min_hs):\n",
    "    for j, min_absdelta in enumerate(min_absdeltas):\n",
    "        mask = (forward_df['households'] >= min_h) & (forward_df['indexofdelta'].abs() >= min_absdelta)\n",
    "        if (min_h == 1) and (min_absdelta == 0):\n",
    "            assert mask.all()\n",
    "        tmp = forward_df.loc[mask, :]\n",
    "        if len(tmp) == 0: continue\n",
    "        r2 = calc_score(labels=tmp['label'], preds=tmp['preds_ms'], weights=tmp['weight'], metric='r2')\n",
    "        r2s[i, j] = r2"
   ]
  },
  {
   "cell_type": "code",
   "execution_count": null,
   "metadata": {},
   "outputs": [],
   "source": [
    "fig, ax = plt.subplots(1, 1)\n",
    "for j, min_absdelta in enumerate(min_absdeltas):\n",
    "    ax.plot(min_hs, r2s[:, j], label=str(min_absdelta))\n",
    "ax.set(xlabel='min. # households', ylabel='$r^2$')\n",
    "ax.legend(title='min. |delta|', loc='center left', bbox_to_anchor=(1, 0.5))\n",
    "ax.grid(True)"
   ]
  },
  {
   "cell_type": "code",
   "execution_count": null,
   "metadata": {},
   "outputs": [],
   "source": [
    "fig, ax = plt.subplots(1, 1)\n",
    "for i, min_h in enumerate(min_hs):\n",
    "    ax.plot(min_absdeltas, r2s[i], label=str(min_h))\n",
    "ax.set(xlabel='min. |delta|', ylabel='$r^2$')\n",
    "ax.legend(title='min. # households', loc='center left', bbox_to_anchor=(1, 0.5))\n",
    "ax.grid(True)"
   ]
  },
  {
   "cell_type": "markdown",
   "metadata": {},
   "source": [
    "## Visualize best and worst predictions\n",
    "\n",
    "Measure performance on each location as % error, relative to ground truth."
   ]
  },
  {
   "cell_type": "code",
   "execution_count": null,
   "metadata": {},
   "outputs": [],
   "source": [
    "# ONLY RUN THIS SECTION IF USING SAVED CSVS\n",
    "csv_path = os.path.join('../model_analysis', 'lsms_indexofdelta_preds_incountry.csv')\n",
    "forward_preds_df = pd.read_csv(csv_path)\n",
    "forward_preds_df['lat'] = np.float32(forward_preds_df['lat'])\n",
    "forward_preds_df['lon'] = np.float32(forward_preds_df['lon'])\n",
    "\n",
    "forward_df = pd.merge(forward_preds_df, delta_pairs_df, on=['lat', 'lon', 'country', 'year1', 'year2'])\n",
    "forward_df['residual'] = forward_df['label'] - forward_df['preds_ms']"
   ]
  },
  {
   "cell_type": "code",
   "execution_count": null,
   "metadata": {},
   "outputs": [],
   "source": [
    "tfrecord_paths = np.asarray(batcher.get_lsms_tfrecord_paths(dataset_constants.SURVEY_NAMES['LSMS']))\n",
    "K = 5"
   ]
  },
  {
   "cell_type": "code",
   "execution_count": null,
   "metadata": {},
   "outputs": [],
   "source": [
    "print('Largest pred:', forward_df['preds_ms'].abs().max())\n",
    "\n",
    "top_k = forward_df['preds_ms'].abs().sort_values().index[-1:-K-1:-1]\n",
    "display(forward_df.loc[top_k])\n",
    "\n",
    "paired_indices = forward_df.loc[top_k, ['tfrecords_index.x', 'tfrecords_index.y']].values\n",
    "images1 = get_images(tfrecord_paths[paired_indices[:, 0]])\n",
    "images2 = get_images(tfrecord_paths[paired_indices[:, 1]])"
   ]
  },
  {
   "cell_type": "code",
   "execution_count": null,
   "metadata": {},
   "outputs": [],
   "source": [
    "plot_images_by_delta(\n",
    "    images1, images2,\n",
    "    order='largest abs. pred (index-of-delta)',\n",
    "    labels_col='indexofdelta',\n",
    "    preds_col='preds_ms',\n",
    "    df=forward_df.loc[top_k])"
   ]
  },
  {
   "cell_type": "code",
   "execution_count": null,
   "metadata": {},
   "outputs": [],
   "source": [
    "perc_error = (forward_df['preds_ms'] - forward_df['label']) / forward_df['label']\n",
    "print('lowest % error:', perc_error.abs().min() * 100)\n",
    "\n",
    "best_k = perc_error.abs().sort_values().index[:K]\n",
    "display(forward_df.loc[top_k])\n",
    "\n",
    "paired_indices = forward_df.loc[best_k, ['tfrecords_index.x', 'tfrecords_index.y']].values\n",
    "images1 = get_images(tfrecord_paths[paired_indices[:, 0]])\n",
    "images2 = get_images(tfrecord_paths[paired_indices[:, 1]])"
   ]
  },
  {
   "cell_type": "code",
   "execution_count": null,
   "metadata": {},
   "outputs": [],
   "source": [
    "plot_images_by_delta(\n",
    "    images1, images2,\n",
    "    order='lowest % error (index-of-delta)',\n",
    "    labels_col='indexofdelta',\n",
    "    preds_col='preds_ms',\n",
    "    df=forward_df.loc[best_k])"
   ]
  },
  {
   "cell_type": "code",
   "execution_count": null,
   "metadata": {},
   "outputs": [],
   "source": [
    "def plot_preds_by_fold_country():\n",
    "    vmin = min(forward_preds_df['preds_ms'].min(), forward_preds_df['label'].min())\n",
    "    vmax = max(forward_preds_df['preds_ms'].max(), forward_preds_df['label'].max())\n",
    "    for c in forward_preds_df['country'].unique():\n",
    "        # fig, axs = plt.subplots(1, 5, sharey=True, figsize=(20, 4))\n",
    "        fig = plt.figure(figsize=(22, 4))\n",
    "        for i, f in enumerate(['A', 'B', 'C', 'D', 'E']):\n",
    "            subset_df = forward_preds_df[(forward_preds_df['country'] == c) & (forward_preds_df['fold'] == f)]\n",
    "            plot_locs(fig=fig, pos=(1, 5, i+1), locs=subset_df[['lat', 'lon']].values,\n",
    "                      colors=subset_df['preds_ms'].values, show_cbar=(i==4),\n",
    "                      title=f'fold-{f}', cbar_label='preds_ms',\n",
    "                      vmin=vmin, vmax=vmax, s=10)\n",
    "        fig.suptitle(f'{c} index-of-delta preds', y=1.01)\n",
    "\n",
    "        fig = plt.figure(figsize=(22, 4))\n",
    "        for i, f in enumerate(['A', 'B', 'C', 'D', 'E']):\n",
    "            subset_df = forward_preds_df[(forward_preds_df['country'] == c) & (forward_preds_df['fold'] == f)]\n",
    "            plot_locs(fig=fig, pos=(1, 5, i+1), locs=subset_df[['lat', 'lon']].values,\n",
    "                      colors=subset_df['label'].values, show_cbar=(i==4),\n",
    "                      title=f'fold-{f}', cbar_label='label',\n",
    "                      vmin=vmin, vmax=vmax, s=10)\n",
    "        fig.suptitle(f'{c} index-of-delta labels', y=1.01)\n",
    "        plt.show()\n",
    "\n",
    "plot_preds_by_fold_country()"
   ]
  },
  {
   "cell_type": "markdown",
   "metadata": {},
   "source": [
    "## Variation by geolevel"
   ]
  },
  {
   "cell_type": "code",
   "execution_count": null,
   "metadata": {},
   "outputs": [],
   "source": [
    "stds = forward_df.groupby(['fold', 'geolev1'])[['label', 'preds_ms']].std()\n",
    "display(stds)\n",
    "\n",
    "stds_norm = stds.copy()\n",
    "stds_norm['label'] /= forward_df['label'].std()\n",
    "stds_norm['preds_ms'] /= forward_df['preds_ms'].std()\n",
    "(stds_norm['label'] - stds_norm['preds_ms']).hist(bins=np.arange(-1.5, 1.5, 0.1))"
   ]
  },
  {
   "cell_type": "code",
   "execution_count": null,
   "metadata": {},
   "outputs": [],
   "source": [
    "def weighted_std(x, weights):\n",
    "    mean = np.average(x, weights=weights)\n",
    "    var = np.average((x - mean)**2, weights=weights)\n",
    "    return np.sqrt(var / (len(x) - 1))\n",
    "\n",
    "def apply_weighted_std(df, weights_col):\n",
    "    cols = list(df.columns)\n",
    "    cols.remove(weights_col)\n",
    "    weights = df[weights_col]\n",
    "    result = {c: weighted_std(df[c], weights) for c in cols}\n",
    "    return pd.Series(result)"
   ]
  },
  {
   "cell_type": "code",
   "execution_count": null,
   "metadata": {},
   "outputs": [],
   "source": [
    "stds = forward_df.groupby(['fold', 'geolev1'])[['label', 'preds_ms', 'households']].apply(apply_weighted_std, weights_col='households')\n",
    "display(stds)\n",
    "\n",
    "stds_norm = stds.copy()\n",
    "stds_norm['label'] /= weighted_std(forward_df['label'], weights=forward_df['households'])\n",
    "stds_norm['preds_ms'] /= weighted_std(forward_df['preds_ms'], weights=forward_df['households'])\n",
    "ax = (stds_norm['label'] - stds_norm['preds_ms']).hist(bins=np.arange(-1.5, 1.5, 0.1))\n",
    "ax.set_title('histogram of difference in std-devs between preds and labels')\n",
    "ax.set_ylabel('count of (geolev1, fold) tuples')\n",
    "ax.set_xlabel('(std-dev of preds) - (std-dev of labels)')\n",
    "plt.show()"
   ]
  }
 ],
 "metadata": {
  "kernelspec": {
   "display_name": "Python 3",
   "language": "python",
   "name": "python3"
  },
  "language_info": {
   "codemirror_mode": {
    "name": "ipython",
    "version": 3
   },
   "file_extension": ".py",
   "mimetype": "text/x-python",
   "name": "python",
   "nbconvert_exporter": "python",
   "pygments_lexer": "ipython3",
   "version": "3.7.4"
  },
  "toc": {
   "base_numbering": 1,
   "nav_menu": {},
   "number_sections": true,
   "sideBar": true,
   "skip_h1_title": false,
   "title_cell": "Table of Contents",
   "title_sidebar": "Contents",
   "toc_cell": true,
   "toc_position": {
    "height": "calc(100% - 180px)",
    "left": "10px",
    "top": "150px",
    "width": "209.8px"
   },
   "toc_section_display": true,
   "toc_window_display": true
  }
 },
 "nbformat": 4,
 "nbformat_minor": 2
}
