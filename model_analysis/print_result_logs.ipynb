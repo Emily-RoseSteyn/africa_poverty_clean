{
 "cells": [
  {
   "cell_type": "markdown",
   "metadata": {
    "toc": true
   },
   "source": [
    "<h1>Table of Contents<span class=\"tocSkip\"></span></h1>\n",
    "<div class=\"toc\"><ul class=\"toc-item\"><li><span><a href=\"#Imports-and-Constants\" data-toc-modified-id=\"Imports-and-Constants-1\"><span class=\"toc-item-num\">1&nbsp;&nbsp;</span>Imports and Constants</a></span></li><li><span><a href=\"#DHS-OOC\" data-toc-modified-id=\"DHS-OOC-2\"><span class=\"toc-item-num\">2&nbsp;&nbsp;</span>DHS OOC</a></span></li><li><span><a href=\"#DHS-Incountry\" data-toc-modified-id=\"DHS-Incountry-3\"><span class=\"toc-item-num\">3&nbsp;&nbsp;</span>DHS Incountry</a></span></li><li><span><a href=\"#LSMS-Delta-Incountry\" data-toc-modified-id=\"LSMS-Delta-Incountry-4\"><span class=\"toc-item-num\">4&nbsp;&nbsp;</span>LSMS Delta Incountry</a></span></li><li><span><a href=\"#LSMS-Delta-Incountry-(OLD)\" data-toc-modified-id=\"LSMS-Delta-Incountry-(OLD)-5\"><span class=\"toc-item-num\">5&nbsp;&nbsp;</span>LSMS Delta Incountry (OLD)</a></span></li><li><span><a href=\"#LSMS-Delta-Incountry-(w/-orig_labels)\" data-toc-modified-id=\"LSMS-Delta-Incountry-(w/-orig_labels)-6\"><span class=\"toc-item-num\">6&nbsp;&nbsp;</span>LSMS Delta Incountry (w/ orig_labels)</a></span></li><li><span><a href=\"#LSMS-Delta-Incountry-Forward-(w/-orig_labels)\" data-toc-modified-id=\"LSMS-Delta-Incountry-Forward-(w/-orig_labels)-7\"><span class=\"toc-item-num\">7&nbsp;&nbsp;</span>LSMS Delta Incountry Forward (w/ orig_labels)</a></span></li><li><span><a href=\"#LSMS-Index-of-Delta-Incountry\" data-toc-modified-id=\"LSMS-Index-of-Delta-Incountry-8\"><span class=\"toc-item-num\">8&nbsp;&nbsp;</span>LSMS Index of Delta Incountry</a></span></li><li><span><a href=\"#LSMS-Delta-Class\" data-toc-modified-id=\"LSMS-Delta-Class-9\"><span class=\"toc-item-num\">9&nbsp;&nbsp;</span>LSMS Delta Class</a></span></li></ul></div>"
   ]
  },
  {
   "cell_type": "markdown",
   "metadata": {},
   "source": [
    "# Imports and Constants"
   ]
  },
  {
   "cell_type": "code",
   "execution_count": null,
   "metadata": {},
   "outputs": [],
   "source": [
    "%load_ext autoreload\n",
    "%autoreload 2\n",
    "%matplotlib inline"
   ]
  },
  {
   "cell_type": "code",
   "execution_count": null,
   "metadata": {},
   "outputs": [],
   "source": [
    "import ast\n",
    "from glob import glob\n",
    "import os\n",
    "from pprint import pprint\n",
    "import sys\n",
    "\n",
    "import matplotlib.pyplot as plt\n",
    "import numpy as np\n",
    "import pandas as pd\n",
    "\n",
    "sys.path.append('../')\n",
    "from utils.general import colordisplay\n",
    "\n",
    "LOGS_DIR = '../logs/'"
   ]
  },
  {
   "cell_type": "code",
   "execution_count": null,
   "metadata": {},
   "outputs": [],
   "source": [
    "def read_results(results_glob_str):\n",
    "    '''\n",
    "    Args\n",
    "    - results_glob_str: str, glob pattern to match results.csv files\n",
    "\n",
    "    Returns\n",
    "    - all_results_df: pd.DataFrame\n",
    "    '''\n",
    "    results_paths = sorted(filter(lambda path: 'keep' not in path, glob(results_glob_str)))\n",
    "\n",
    "    all_dfs = []\n",
    "    modelid_to_modeldir = {}\n",
    "\n",
    "    for results_path in results_paths:\n",
    "        params_path = results_path.replace('results.csv', 'params.txt')\n",
    "        with open(params_path, 'r') as f:\n",
    "            s = f.read().split(\"('Checkpoint prefix\")[0]\n",
    "            params = ast.literal_eval(s)\n",
    "\n",
    "        bands = ''\n",
    "        if params['ls_bands'] is not None:\n",
    "            bands += params['ls_bands']\n",
    "        if params['nl_band'] is not None:\n",
    "            bands += 'nl'\n",
    "        dataset, lr, reg = params['dataset'], params['lr'], params['fc_reg']\n",
    "        modeldir = results_path.split('/')[-2]\n",
    "        modelid = (bands, dataset, lr, reg)\n",
    "        modelid_to_modeldir[modelid] = modeldir\n",
    "\n",
    "        df = pd.read_csv(results_path, float_precision='high', index_col=False)\n",
    "        df['bands'], df['dataset'], df['lr'], df['reg'] = modelid\n",
    "        all_dfs.append(df)\n",
    "        \n",
    "    all_results_df = pd.concat(all_dfs, sort=False).reset_index(drop=True)\n",
    "    return all_results_df, modelid_to_modeldir\n",
    "\n",
    "def get_best_epoch_mse(df):\n",
    "    df = df.set_index(['epoch', 'split'])\n",
    "    best_epoch = df.loc[(slice(None), 'val'), 'mse'].idxmin()[0]\n",
    "    df = df.loc[(best_epoch, slice(None)), :]\n",
    "    df = df.unstack('split')\n",
    "    df.columns = [f'{split} {metric}' for (metric, split) in df.columns.values]\n",
    "    return df\n",
    "\n",
    "def get_best_epoch_acc(df):\n",
    "    df.set_index(['epoch', 'split'], inplace=True)\n",
    "    best_epoch = df.loc[(slice(None), 'val'), 'acc'].idxmax()[0]\n",
    "    df = df.loc[(best_epoch, slice(None)), :]\n",
    "    df = df.unstack('split')\n",
    "    df.columns = [f'{split} {metric}' for (metric, split) in df.columns.values]\n",
    "    return df"
   ]
  },
  {
   "cell_type": "markdown",
   "metadata": {},
   "source": [
    "# DHS OOC"
   ]
  },
  {
   "cell_type": "code",
   "execution_count": null,
   "metadata": {},
   "outputs": [],
   "source": [
    "results_glob_str = os.path.join(LOGS_DIR, 'DHS_OOC/*/results.csv')\n",
    "all_results_df, modelid_to_modeldir = read_results(results_glob_str)\n",
    "with pd.option_context('display.max_rows', 4):\n",
    "    display(all_results_df)"
   ]
  },
  {
   "cell_type": "code",
   "execution_count": null,
   "metadata": {},
   "outputs": [],
   "source": [
    "perf = (all_results_df\n",
    "        .groupby(['bands', 'dataset', 'lr', 'reg'])['epoch', 'split', 'r2', 'R2', 'mse']\n",
    "        .apply(get_best_epoch_mse)\n",
    "        .reset_index('epoch'))\n",
    "\n",
    "with pd.option_context('display.max_rows', 500):\n",
    "    colordisplay(perf, columns='val R2')"
   ]
  },
  {
   "cell_type": "code",
   "execution_count": null,
   "metadata": {},
   "outputs": [],
   "source": [
    "best_mse_idx = perf.groupby(['bands', 'dataset'])['val mse'].idxmin()\n",
    "colordisplay(perf.loc[best_mse_idx, :], 'val mse')\n",
    "\n",
    "best_r2_idx = perf.groupby(['bands', 'dataset'])['val r2'].idxmax()\n",
    "colordisplay(perf.loc[best_r2_idx, :], 'val r2')"
   ]
  },
  {
   "cell_type": "code",
   "execution_count": null,
   "metadata": {},
   "outputs": [],
   "source": [
    "cols = ['lr', 'reg', 'epoch', 'val mse', 'val r2']\n",
    "best_mse_params = perf.loc[best_mse_idx, :].reset_index(['lr', 'reg'])[cols]\n",
    "best_r2_params = perf.loc[best_r2_idx, :].reset_index(['lr', 'reg'])[cols]\n",
    "\n",
    "with pd.option_context('precision', 3):\n",
    "    display(pd.concat([best_mse_params, best_r2_params], keys=['mse', 'r2'], axis=1))"
   ]
  },
  {
   "cell_type": "code",
   "execution_count": null,
   "metadata": {},
   "outputs": [],
   "source": [
    "mse_plot_df = perf.loc[best_mse_idx, :].reset_index(level=['lr', 'reg'])\n",
    "ax = mse_plot_df.unstack().plot(kind='bar', y='val R2', grid=True)\n",
    "ax.legend(loc='center left', bbox_to_anchor=(1, 0.5))\n",
    "ax.set_ylabel('val R^2')\n",
    "\n",
    "ax = mse_plot_df.unstack(-2).plot(kind='bar', y='val R2', grid=True)\n",
    "ax.legend(loc='center left', bbox_to_anchor=(1, 0.5))\n",
    "ax.set_ylabel('val R^2')\n",
    "plt.show()"
   ]
  },
  {
   "cell_type": "code",
   "execution_count": null,
   "metadata": {},
   "outputs": [],
   "source": [
    "r2_plot_df = perf.loc[best_r2_idx, :].reset_index(level=['lr', 'reg'])\n",
    "ax = r2_plot_df.unstack().plot(kind='bar', y='val r2', grid=True)\n",
    "ax.legend(loc='center left', bbox_to_anchor=(1, 0.5), title='Folds')\n",
    "ax.set_ylabel('val r^2')\n",
    "\n",
    "ax = r2_plot_df.unstack(-2).plot(kind='bar', y='val r2', grid=True)\n",
    "ax.legend(loc='center left', bbox_to_anchor=(1, 0.5), title='Folds')\n",
    "ax.set_ylabel('val r^2')\n",
    "plt.show()"
   ]
  },
  {
   "cell_type": "code",
   "execution_count": null,
   "metadata": {},
   "outputs": [],
   "source": [
    "for modelid in best_mse_idx:\n",
    "    print(modelid_to_modeldir[modelid])"
   ]
  },
  {
   "cell_type": "markdown",
   "metadata": {},
   "source": [
    "# DHS Incountry"
   ]
  },
  {
   "cell_type": "code",
   "execution_count": null,
   "metadata": {},
   "outputs": [],
   "source": [
    "results_glob_str = os.path.join(LOGS_DIR, 'DHSIncountry/*/results.csv')\n",
    "all_results_df, modelid_to_modeldir = read_results(results_glob_str)\n",
    "with pd.option_context('display.max_rows', 4):\n",
    "    display(all_results_df)"
   ]
  },
  {
   "cell_type": "code",
   "execution_count": null,
   "metadata": {},
   "outputs": [],
   "source": [
    "perf = (all_results_df\n",
    "        .groupby(['bands', 'dataset', 'lr', 'reg'])['epoch', 'split', 'r2', 'R2', 'mse']\n",
    "        .apply(get_best_epoch_mse)\n",
    "        .reset_index('epoch'))\n",
    "\n",
    "with pd.option_context('display.max_rows', 500):\n",
    "    colordisplay(perf, columns='val R2')"
   ]
  },
  {
   "cell_type": "code",
   "execution_count": null,
   "metadata": {},
   "outputs": [],
   "source": [
    "best_mse_idx = perf.groupby(['bands', 'dataset'])['val mse'].idxmin()\n",
    "colordisplay(perf.loc[best_mse_idx, :], 'val mse')\n",
    "\n",
    "best_r2_idx = perf.groupby(['bands', 'dataset'])['val r2'].idxmax()\n",
    "colordisplay(perf.loc[best_r2_idx, :], 'val r2')"
   ]
  },
  {
   "cell_type": "code",
   "execution_count": null,
   "metadata": {},
   "outputs": [],
   "source": [
    "cols = ['lr', 'reg', 'epoch', 'val mse', 'val r2']\n",
    "best_mse_params = perf.loc[best_mse_idx, :].reset_index(['lr', 'reg'])[cols]\n",
    "best_r2_params = perf.loc[best_r2_idx, :].reset_index(['lr', 'reg'])[cols]\n",
    "\n",
    "with pd.option_context('precision', 3):\n",
    "    display(pd.concat([best_mse_params, best_r2_params], keys=['mse', 'r2'], axis=1))"
   ]
  },
  {
   "cell_type": "code",
   "execution_count": null,
   "metadata": {},
   "outputs": [],
   "source": [
    "mse_plot_df = perf.loc[best_mse_idx, :].reset_index(level=['lr', 'reg'])\n",
    "ax = mse_plot_df.unstack().plot(kind='bar', y='val R2', grid=True)\n",
    "ax.legend(loc='center left', bbox_to_anchor=(1, 0.5))\n",
    "ax.set_ylabel('val R^2')\n",
    "\n",
    "ax = mse_plot_df.unstack(-2).plot(kind='bar', y='val R2', grid=True)\n",
    "ax.legend(loc='center left', bbox_to_anchor=(1, 0.5))\n",
    "ax.set_ylabel('val R^2')\n",
    "plt.show()"
   ]
  },
  {
   "cell_type": "code",
   "execution_count": null,
   "metadata": {},
   "outputs": [],
   "source": [
    "r2_plot_df = perf.loc[best_r2_idx, :].reset_index(level=['lr', 'reg'])\n",
    "ax = r2_plot_df.unstack().plot(kind='bar', y='val r2', grid=True)\n",
    "ax.legend(loc='center left', bbox_to_anchor=(1, 0.5), title='Folds')\n",
    "ax.set_ylabel('val r^2')\n",
    "\n",
    "ax = r2_plot_df.unstack(-2).plot(kind='bar', y='val r2', grid=True)\n",
    "ax.legend(loc='center left', bbox_to_anchor=(1, 0.5), title='Folds')\n",
    "ax.set_ylabel('val r^2')\n",
    "plt.show()"
   ]
  },
  {
   "cell_type": "code",
   "execution_count": null,
   "metadata": {},
   "outputs": [],
   "source": [
    "for modelid in best_mse_idx:\n",
    "    print(modelid_to_modeldir[modelid])"
   ]
  },
  {
   "cell_type": "markdown",
   "metadata": {},
   "source": [
    "# LSMS Delta Incountry\n",
    "- random initialization + bi-directional augmentation\n",
    "- weighted loss by household count"
   ]
  },
  {
   "cell_type": "code",
   "execution_count": null,
   "metadata": {},
   "outputs": [],
   "source": [
    "results_glob_str = os.path.join(LOGS_DIR, 'LSMSDeltaIncountry/*/results.csv')\n",
    "all_results_df, modelid_to_modeldir = read_results(results_glob_str)\n",
    "with pd.option_context('display.max_rows', 4):\n",
    "    display(all_results_df)"
   ]
  },
  {
   "cell_type": "code",
   "execution_count": null,
   "metadata": {},
   "outputs": [],
   "source": [
    "perf = (all_results_df\n",
    "        .groupby(['bands', 'dataset', 'lr', 'reg'])['epoch', 'split', 'r2', 'R2', 'mse']\n",
    "        .apply(get_best_epoch_mse)\n",
    "        .reset_index('epoch'))\n",
    "\n",
    "with pd.option_context('display.max_rows', 500):\n",
    "    colordisplay(perf, columns='val R2')"
   ]
  },
  {
   "cell_type": "code",
   "execution_count": null,
   "metadata": {},
   "outputs": [],
   "source": [
    "best_mse_idx = perf.groupby(['bands', 'dataset'])['val mse'].idxmin()\n",
    "colordisplay(perf.loc[best_mse_idx, :], 'val mse')\n",
    "\n",
    "best_r2_idx = perf.groupby(['bands', 'dataset'])['val r2'].idxmax()\n",
    "colordisplay(perf.loc[best_r2_idx, :], 'val r2')"
   ]
  },
  {
   "cell_type": "code",
   "execution_count": null,
   "metadata": {},
   "outputs": [],
   "source": [
    "cols = ['lr', 'reg', 'epoch', 'val mse', 'val r2']\n",
    "best_mse_params = perf.loc[best_mse_idx, :].reset_index(['lr', 'reg'])[cols]\n",
    "best_r2_params = perf.loc[best_r2_idx, :].reset_index(['lr', 'reg'])[cols]\n",
    "\n",
    "with pd.option_context('precision', 3):\n",
    "    display(pd.concat([best_mse_params, best_r2_params], keys=['mse', 'r2'], axis=1))"
   ]
  },
  {
   "cell_type": "code",
   "execution_count": null,
   "metadata": {},
   "outputs": [],
   "source": [
    "mse_plot_df = perf.loc[best_mse_idx, :].reset_index(level=['lr', 'reg'])\n",
    "ax = mse_plot_df.unstack().plot(kind='bar', y='val R2', grid=True)\n",
    "ax.legend(loc='center left', bbox_to_anchor=(1, 0.5))\n",
    "ax.set_ylabel('val R^2')\n",
    "\n",
    "ax = mse_plot_df.unstack(-2).plot(kind='bar', y='val R2', grid=True)\n",
    "ax.legend(loc='center left', bbox_to_anchor=(1, 0.5))\n",
    "ax.set_ylabel('val R^2')\n",
    "plt.show()"
   ]
  },
  {
   "cell_type": "code",
   "execution_count": null,
   "metadata": {},
   "outputs": [],
   "source": [
    "r2_plot_df = perf.loc[best_r2_idx, :].reset_index(level=['lr', 'reg'])\n",
    "ax = r2_plot_df.unstack().plot(kind='bar', y='val r2', grid=True)\n",
    "ax.legend(loc='center left', bbox_to_anchor=(1, 0.5), title='Folds')\n",
    "ax.set_ylabel('val r^2')\n",
    "\n",
    "ax = r2_plot_df.unstack(-2).plot(kind='bar', y='val r2', grid=True)\n",
    "ax.legend(loc='center left', bbox_to_anchor=(1, 0.5), title='Folds')\n",
    "ax.set_ylabel('val r^2')\n",
    "plt.show()"
   ]
  },
  {
   "cell_type": "code",
   "execution_count": null,
   "metadata": {},
   "outputs": [],
   "source": [
    "for modelid in best_mse_idx:\n",
    "    print(modelid_to_modeldir[modelid])"
   ]
  },
  {
   "cell_type": "markdown",
   "metadata": {},
   "source": [
    "# LSMS Delta Incountry (OLD)\n",
    "Random initialization + label=0 augmentation"
   ]
  },
  {
   "cell_type": "code",
   "execution_count": null,
   "metadata": {},
   "outputs": [],
   "source": [
    "results_glob_str = os.path.join(LOGS_DIR, 'LSMSDeltaIncountry/*/results.csv')\n",
    "all_results_df, modelid_to_modeldir = read_results(results_glob_str)\n",
    "with pd.option_context('display.max_rows', 4):\n",
    "    display(all_results_df)"
   ]
  },
  {
   "cell_type": "code",
   "execution_count": null,
   "metadata": {},
   "outputs": [],
   "source": [
    "perf = (all_results_df\n",
    "        .groupby(['bands', 'dataset', 'lr', 'reg'])['epoch', 'split', 'r2', 'R2', 'mse']\n",
    "        .apply(get_best_epoch_mse)\n",
    "        .reset_index('epoch'))\n",
    "\n",
    "with pd.option_context('display.max_rows', 500):\n",
    "    colordisplay(perf, columns='val R2')"
   ]
  },
  {
   "cell_type": "code",
   "execution_count": null,
   "metadata": {},
   "outputs": [],
   "source": [
    "best_mse_idx = perf.groupby(['bands', 'dataset'])['val mse'].idxmin()\n",
    "colordisplay(perf.loc[best_mse_idx, :], 'val mse')\n",
    "\n",
    "best_r2_idx = perf.groupby(['bands', 'dataset'])['val r2'].idxmax()\n",
    "colordisplay(perf.loc[best_r2_idx, :], 'val r2')"
   ]
  },
  {
   "cell_type": "code",
   "execution_count": null,
   "metadata": {},
   "outputs": [],
   "source": [
    "cols = ['lr', 'reg', 'epoch', 'val mse', 'val r2']\n",
    "best_mse_params = perf.loc[best_mse_idx, :].reset_index(['lr', 'reg'])[cols]\n",
    "best_r2_params = perf.loc[best_r2_idx, :].reset_index(['lr', 'reg'])[cols]\n",
    "\n",
    "with pd.option_context('precision', 3):\n",
    "    display(pd.concat([best_mse_params, best_r2_params], keys=['mse', 'r2'], axis=1))"
   ]
  },
  {
   "cell_type": "code",
   "execution_count": null,
   "metadata": {},
   "outputs": [],
   "source": [
    "mse_plot_df = perf.loc[best_mse_idx, :].reset_index(level=['lr', 'reg'])\n",
    "ax = mse_plot_df.unstack().plot(kind='bar', y='val R2', grid=True)\n",
    "ax.legend(loc='center left', bbox_to_anchor=(1, 0.5))\n",
    "ax.set_ylabel('val R^2')\n",
    "\n",
    "ax = mse_plot_df.unstack(-2).plot(kind='bar', y='val R2', grid=True)\n",
    "ax.legend(loc='center left', bbox_to_anchor=(1, 0.5))\n",
    "ax.set_ylabel('val R^2')\n",
    "plt.show()"
   ]
  },
  {
   "cell_type": "code",
   "execution_count": null,
   "metadata": {},
   "outputs": [],
   "source": [
    "r2_plot_df = perf.loc[best_r2_idx, :].reset_index(level=['lr', 'reg'])\n",
    "ax = r2_plot_df.unstack().plot(kind='bar', y='val r2', grid=True)\n",
    "ax.legend(loc='center left', bbox_to_anchor=(1, 0.5), title='Folds')\n",
    "ax.set_ylabel('val r^2')\n",
    "\n",
    "ax = r2_plot_df.unstack(-2).plot(kind='bar', y='val r2', grid=True)\n",
    "ax.legend(loc='center left', bbox_to_anchor=(1, 0.5), title='Folds')\n",
    "ax.set_ylabel('val r^2')\n",
    "plt.show()"
   ]
  },
  {
   "cell_type": "code",
   "execution_count": null,
   "metadata": {},
   "outputs": [],
   "source": [
    "for modelid in best_mse_idx:\n",
    "    print(modelid_to_modeldir[modelid])"
   ]
  },
  {
   "cell_type": "markdown",
   "metadata": {},
   "source": [
    "# LSMS Delta Incountry (w/ orig_labels)\n",
    "Random initialization + label=0 augmentation"
   ]
  },
  {
   "cell_type": "code",
   "execution_count": null,
   "metadata": {},
   "outputs": [],
   "source": [
    "results_glob_str = os.path.join(LOGS_DIR, 'LSMSDeltaIncountry_origlabels/*/results.csv')\n",
    "all_results_df, modelid_to_modeldir = read_results(results_glob_str)\n",
    "with pd.option_context('display.max_rows', 4):\n",
    "    display(all_results_df)"
   ]
  },
  {
   "cell_type": "code",
   "execution_count": null,
   "metadata": {},
   "outputs": [],
   "source": [
    "perf = (all_results_df\n",
    "        .groupby(['bands', 'dataset', 'lr', 'reg'])['epoch', 'split', 'r2', 'R2', 'mse']\n",
    "        .apply(get_best_epoch_mse)\n",
    "        .reset_index('epoch'))\n",
    "\n",
    "with pd.option_context('display.max_rows', 500):\n",
    "    colordisplay(perf, columns='val R2')"
   ]
  },
  {
   "cell_type": "code",
   "execution_count": null,
   "metadata": {},
   "outputs": [],
   "source": [
    "best_mse_idx = perf.groupby(['bands', 'dataset'])['val mse'].idxmin()\n",
    "colordisplay(perf.loc[best_mse_idx, :], 'val mse')\n",
    "\n",
    "best_r2_idx = perf.groupby(['bands', 'dataset'])['val r2'].idxmax()\n",
    "colordisplay(perf.loc[best_r2_idx, :], 'val r2')"
   ]
  },
  {
   "cell_type": "code",
   "execution_count": null,
   "metadata": {},
   "outputs": [],
   "source": [
    "cols = ['lr', 'reg', 'epoch', 'val mse', 'val r2']\n",
    "best_mse_params = perf.loc[best_mse_idx, :].reset_index(['lr', 'reg'])[cols]\n",
    "best_r2_params = perf.loc[best_r2_idx, :].reset_index(['lr', 'reg'])[cols]\n",
    "\n",
    "with pd.option_context('precision', 3):\n",
    "    display(pd.concat([best_mse_params, best_r2_params], keys=['mse', 'r2'], axis=1))"
   ]
  },
  {
   "cell_type": "code",
   "execution_count": null,
   "metadata": {},
   "outputs": [],
   "source": [
    "mse_plot_df = perf.loc[best_mse_idx, :].reset_index(level=['lr', 'reg'])\n",
    "ax = mse_plot_df.unstack().plot(kind='bar', y='val R2', grid=True)\n",
    "ax.legend(loc='center left', bbox_to_anchor=(1, 0.5))\n",
    "ax.set_ylabel('val R^2')\n",
    "\n",
    "ax = mse_plot_df.unstack(-2).plot(kind='bar', y='val R2', grid=True)\n",
    "ax.legend(loc='center left', bbox_to_anchor=(1, 0.5))\n",
    "ax.set_ylabel('val R^2')\n",
    "plt.show()"
   ]
  },
  {
   "cell_type": "code",
   "execution_count": null,
   "metadata": {},
   "outputs": [],
   "source": [
    "r2_plot_df = perf.loc[best_r2_idx, :].reset_index(level=['lr', 'reg'])\n",
    "ax = r2_plot_df.unstack().plot(kind='bar', y='val r2', grid=True)\n",
    "ax.legend(loc='center left', bbox_to_anchor=(1, 0.5), title='Folds')\n",
    "ax.set_ylabel('val r^2')\n",
    "\n",
    "ax = r2_plot_df.unstack(-2).plot(kind='bar', y='val r2', grid=True)\n",
    "ax.legend(loc='center left', bbox_to_anchor=(1, 0.5), title='Folds')\n",
    "ax.set_ylabel('val r^2')\n",
    "plt.show()"
   ]
  },
  {
   "cell_type": "code",
   "execution_count": null,
   "metadata": {},
   "outputs": [],
   "source": [
    "for modelid in best_mse_idx:\n",
    "    print(modelid_to_modeldir[modelid])"
   ]
  },
  {
   "cell_type": "markdown",
   "metadata": {},
   "source": [
    "# LSMS Delta Incountry Forward (w/ orig_labels)\n",
    "Random initialization + label=0 augmentation"
   ]
  },
  {
   "cell_type": "code",
   "execution_count": null,
   "metadata": {},
   "outputs": [],
   "source": [
    "results_glob_str = os.path.join(LOGS_DIR, 'LSMSDeltaIncountry_forward_origlabels/*/results.csv')\n",
    "all_results_df, modelid_to_modeldir = read_results(results_glob_str)\n",
    "with pd.option_context('display.max_rows', 4):\n",
    "    display(all_results_df)"
   ]
  },
  {
   "cell_type": "code",
   "execution_count": null,
   "metadata": {},
   "outputs": [],
   "source": [
    "perf = (all_results_df\n",
    "        .groupby(['bands', 'dataset', 'lr', 'reg'])['epoch', 'split', 'r2', 'R2', 'mse']\n",
    "        .apply(get_best_epoch_mse)\n",
    "        .reset_index('epoch'))\n",
    "\n",
    "with pd.option_context('display.max_rows', 500):\n",
    "    colordisplay(perf, columns='val R2')"
   ]
  },
  {
   "cell_type": "code",
   "execution_count": null,
   "metadata": {},
   "outputs": [],
   "source": [
    "best_mse_idx = perf.groupby(['bands', 'dataset'])['val mse'].idxmin()\n",
    "colordisplay(perf.loc[best_mse_idx, :], 'val mse')\n",
    "\n",
    "best_r2_idx = perf.groupby(['bands', 'dataset'])['val r2'].idxmax()\n",
    "colordisplay(perf.loc[best_r2_idx, :], 'val r2')"
   ]
  },
  {
   "cell_type": "code",
   "execution_count": null,
   "metadata": {},
   "outputs": [],
   "source": [
    "cols = ['lr', 'reg', 'epoch', 'val mse', 'val r2']\n",
    "best_mse_params = perf.loc[best_mse_idx, :].reset_index(['lr', 'reg'])[cols]\n",
    "best_r2_params = perf.loc[best_r2_idx, :].reset_index(['lr', 'reg'])[cols]\n",
    "\n",
    "with pd.option_context('precision', 3):\n",
    "    display(pd.concat([best_mse_params, best_r2_params], keys=['mse', 'r2'], axis=1))"
   ]
  },
  {
   "cell_type": "code",
   "execution_count": null,
   "metadata": {},
   "outputs": [],
   "source": [
    "mse_plot_df = perf.loc[best_mse_idx, :].reset_index(level=['lr', 'reg'])\n",
    "ax = mse_plot_df.unstack().plot(kind='bar', y='val R2', grid=True)\n",
    "ax.legend(loc='center left', bbox_to_anchor=(1, 0.5))\n",
    "ax.set_ylabel('val R^2')\n",
    "\n",
    "ax = mse_plot_df.unstack(-2).plot(kind='bar', y='val R2', grid=True)\n",
    "ax.legend(loc='center left', bbox_to_anchor=(1, 0.5))\n",
    "ax.set_ylabel('val R^2')\n",
    "plt.show()"
   ]
  },
  {
   "cell_type": "code",
   "execution_count": null,
   "metadata": {},
   "outputs": [],
   "source": [
    "r2_plot_df = perf.loc[best_r2_idx, :].reset_index(level=['lr', 'reg'])\n",
    "ax = r2_plot_df.unstack().plot(kind='bar', y='val r2', grid=True)\n",
    "ax.legend(loc='center left', bbox_to_anchor=(1, 0.5), title='Folds')\n",
    "ax.set_ylabel('val r^2')\n",
    "\n",
    "ax = r2_plot_df.unstack(-2).plot(kind='bar', y='val r2', grid=True)\n",
    "ax.legend(loc='center left', bbox_to_anchor=(1, 0.5), title='Folds')\n",
    "ax.set_ylabel('val r^2')\n",
    "plt.show()"
   ]
  },
  {
   "cell_type": "code",
   "execution_count": null,
   "metadata": {},
   "outputs": [],
   "source": [
    "for modelid in best_mse_idx:\n",
    "    print(modelid_to_modeldir[modelid])"
   ]
  },
  {
   "cell_type": "markdown",
   "metadata": {},
   "source": [
    "# LSMS Index of Delta Incountry\n",
    "Random initialization + label=0, bi-dir, and levels augmentation"
   ]
  },
  {
   "cell_type": "code",
   "execution_count": null,
   "metadata": {},
   "outputs": [],
   "source": [
    "results_glob_str = os.path.join(LOGS_DIR, 'LSMSIndexOfDeltaIncountry/*/results.csv')\n",
    "all_results_df, modelid_to_modeldir = read_results(results_glob_str)\n",
    "with pd.option_context('display.max_rows', 4):\n",
    "    display(all_results_df)"
   ]
  },
  {
   "cell_type": "code",
   "execution_count": null,
   "metadata": {},
   "outputs": [],
   "source": [
    "perf = (all_results_df\n",
    "        .groupby(['bands', 'dataset', 'lr', 'reg'])[['epoch', 'split', 'r2', 'R2', 'mse']]\n",
    "        .apply(get_best_epoch_mse)\n",
    "        .reset_index('epoch'))\n",
    "\n",
    "with pd.option_context('display.max_rows', 500):\n",
    "    colordisplay(perf, columns='val R2')"
   ]
  },
  {
   "cell_type": "code",
   "execution_count": null,
   "metadata": {},
   "outputs": [],
   "source": [
    "best_mse_idx = perf.groupby(['bands', 'dataset'])['val mse'].idxmin()\n",
    "colordisplay(perf.loc[best_mse_idx, :], 'val mse')\n",
    "\n",
    "best_r2_idx = perf.groupby(['bands', 'dataset'])['val r2'].idxmax()\n",
    "colordisplay(perf.loc[best_r2_idx, :], 'val r2')"
   ]
  },
  {
   "cell_type": "code",
   "execution_count": null,
   "metadata": {},
   "outputs": [],
   "source": [
    "cols = ['lr', 'reg', 'epoch', 'val mse', 'val r2']\n",
    "best_mse_params = perf.loc[best_mse_idx, :].reset_index(['lr', 'reg'])[cols]\n",
    "best_r2_params = perf.loc[best_r2_idx, :].reset_index(['lr', 'reg'])[cols]\n",
    "\n",
    "with pd.option_context('precision', 3):\n",
    "    display(pd.concat([best_mse_params, best_r2_params], keys=['mse', 'r2'], axis=1))"
   ]
  },
  {
   "cell_type": "code",
   "execution_count": null,
   "metadata": {},
   "outputs": [],
   "source": [
    "mse_plot_df = perf.loc[best_mse_idx, :].reset_index(level=['lr', 'reg'])\n",
    "ax = mse_plot_df.unstack().plot(kind='bar', y='val R2', grid=True)\n",
    "ax.legend(loc='center left', bbox_to_anchor=(1, 0.5))\n",
    "ax.set_ylabel('val R^2')\n",
    "\n",
    "ax = mse_plot_df.unstack(-2).plot(kind='bar', y='val R2', grid=True)\n",
    "ax.legend(loc='center left', bbox_to_anchor=(1, 0.5))\n",
    "ax.set_ylabel('val R^2')\n",
    "plt.show()"
   ]
  },
  {
   "cell_type": "code",
   "execution_count": null,
   "metadata": {},
   "outputs": [],
   "source": [
    "r2_plot_df = perf.loc[best_r2_idx, :].reset_index(level=['lr', 'reg'])\n",
    "ax = r2_plot_df.unstack().plot(kind='bar', y='val r2', grid=True)\n",
    "ax.legend(loc='center left', bbox_to_anchor=(1, 0.5), title='Folds')\n",
    "ax.set_ylabel('val r^2')\n",
    "\n",
    "ax = r2_plot_df.unstack(-2).plot(kind='bar', y='val r2', grid=True)\n",
    "ax.legend(loc='center left', bbox_to_anchor=(1, 0.5), title='Folds')\n",
    "ax.set_ylabel('val r^2')\n",
    "plt.show()"
   ]
  },
  {
   "cell_type": "code",
   "execution_count": null,
   "metadata": {},
   "outputs": [],
   "source": [
    "for modelid in best_mse_idx:\n",
    "    print(modelid_to_modeldir[modelid])"
   ]
  },
  {
   "cell_type": "markdown",
   "metadata": {},
   "source": [
    "# LSMS Delta Class\n",
    "Random initialization + label=0 augmentation"
   ]
  },
  {
   "cell_type": "code",
   "execution_count": null,
   "metadata": {},
   "outputs": [],
   "source": [
    "results_glob_str = os.path.join(LOGS_DIR, 'LSMSDeltaClassIncountry/*/results.csv')\n",
    "all_results_df, modelid_to_modeldir = read_results(results_glob_str)\n",
    "with pd.option_context('display.max_rows', 4):\n",
    "    display(all_results_df)"
   ]
  },
  {
   "cell_type": "code",
   "execution_count": null,
   "metadata": {},
   "outputs": [],
   "source": [
    "perf = (all_results_df\n",
    "        .groupby(['bands', 'dataset', 'lr', 'reg'])['epoch', 'split', 'loss_xent', 'acc']\n",
    "        .apply(get_best_epoch_acc)\n",
    "        .reset_index('epoch'))\n",
    "\n",
    "with pd.option_context('display.max_rows', 500):\n",
    "    colordisplay(perf, columns='val acc')"
   ]
  },
  {
   "cell_type": "code",
   "execution_count": null,
   "metadata": {},
   "outputs": [],
   "source": [
    "best_acc_idx = perf.groupby(['bands', 'dataset'])['val acc'].idxmax()\n",
    "colordisplay(perf.loc[best_acc_idx, :], 'val acc')"
   ]
  },
  {
   "cell_type": "code",
   "execution_count": null,
   "metadata": {},
   "outputs": [],
   "source": [
    "acc_plot_df = perf.loc[best_acc_idx, :].reset_index(level=['lr', 'reg'])\n",
    "ax = acc_plot_df.unstack().plot(kind='bar', y='val acc', grid=True)\n",
    "ax.legend(loc='center left', bbox_to_anchor=(1, 0.5))\n",
    "ax.set_ylabel('val acc')\n",
    "\n",
    "ax = acc_plot_df.unstack(-2).plot(kind='bar', y='val acc', grid=True)\n",
    "ax.legend(loc='center left', bbox_to_anchor=(1, 0.5))\n",
    "ax.set_ylabel('val acc')\n",
    "plt.show()"
   ]
  },
  {
   "cell_type": "code",
   "execution_count": null,
   "metadata": {},
   "outputs": [],
   "source": [
    "for modelid in best_acc_idx:\n",
    "    print(modelid_to_modeldir[modelid])"
   ]
  }
 ],
 "metadata": {
  "kernelspec": {
   "display_name": "Python 3 (ipykernel)",
   "language": "python",
   "name": "python3"
  },
  "language_info": {
   "codemirror_mode": {
    "name": "ipython",
    "version": 3
   },
   "file_extension": ".py",
   "mimetype": "text/x-python",
   "name": "python",
   "nbconvert_exporter": "python",
   "pygments_lexer": "ipython3",
   "version": "3.9.6"
  },
  "toc": {
   "base_numbering": 1,
   "nav_menu": {},
   "number_sections": true,
   "sideBar": true,
   "skip_h1_title": false,
   "title_cell": "Table of Contents",
   "title_sidebar": "Contents",
   "toc_cell": true,
   "toc_position": {},
   "toc_section_display": true,
   "toc_window_display": true
  }
 },
 "nbformat": 4,
 "nbformat_minor": 4
}
