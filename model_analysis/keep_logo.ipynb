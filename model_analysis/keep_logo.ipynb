{
 "cells": [
  {
   "cell_type": "markdown",
   "metadata": {
    "toc": true
   },
   "source": [
    "<h1>Table of Contents<span class=\"tocSkip\"></span></h1>\n",
    "<div class=\"toc\"><ul class=\"toc-item\"><li><span><a href=\"#Imports-and-Constants\" data-toc-modified-id=\"Imports-and-Constants-1\"><span class=\"toc-item-num\">1&nbsp;&nbsp;</span>Imports and Constants</a></span></li><li><span><a href=\"#Loading\" data-toc-modified-id=\"Loading-2\"><span class=\"toc-item-num\">2&nbsp;&nbsp;</span>Loading</a></span><ul class=\"toc-item\"><li><span><a href=\"#Load-saved-histograms\" data-toc-modified-id=\"Load-saved-histograms-2.1\"><span class=\"toc-item-num\">2.1&nbsp;&nbsp;</span>Load saved histograms</a></span></li><li><span><a href=\"#Load-loc_dict\" data-toc-modified-id=\"Load-loc_dict-2.2\"><span class=\"toc-item-num\">2.2&nbsp;&nbsp;</span>Load <code>loc_dict</code></a></span></li><li><span><a href=\"#Get-urban-v.-rural-indices\" data-toc-modified-id=\"Get-urban-v.-rural-indices-2.3\"><span class=\"toc-item-num\">2.3&nbsp;&nbsp;</span>Get urban v. rural indices</a></span></li><li><span><a href=\"#Create-country_indices-and-country_labels\" data-toc-modified-id=\"Create-country_indices-and-country_labels-2.4\"><span class=\"toc-item-num\">2.4&nbsp;&nbsp;</span>Create <code>country_indices</code> and <code>country_labels</code></a></span></li><li><span><a href=\"#Get-folds\" data-toc-modified-id=\"Get-folds-2.5\"><span class=\"toc-item-num\">2.5&nbsp;&nbsp;</span>Get folds</a></span></li></ul></li><li><span><a href=\"#General-Plotting-Code\" data-toc-modified-id=\"General-Plotting-Code-3\"><span class=\"toc-item-num\">3&nbsp;&nbsp;</span>General Plotting Code</a></span></li><li><span><a href=\"#Results-(preds-directly-from-Resnets)\" data-toc-modified-id=\"Results-(preds-directly-from-Resnets)-4\"><span class=\"toc-item-num\">4&nbsp;&nbsp;</span>Results (preds directly from Resnets)</a></span><ul class=\"toc-item\"><li><span><a href=\"#Get-test-preds\" data-toc-modified-id=\"Get-test-preds-4.1\"><span class=\"toc-item-num\">4.1&nbsp;&nbsp;</span>Get test preds</a></span></li><li><span><a href=\"#Plot\" data-toc-modified-id=\"Plot-4.2\"><span class=\"toc-item-num\">4.2&nbsp;&nbsp;</span>Plot</a></span></li></ul></li><li><span><a href=\"#Results-(ridge-CV-on-Resnet-features)\" data-toc-modified-id=\"Results-(ridge-CV-on-Resnet-features)-5\"><span class=\"toc-item-num\">5&nbsp;&nbsp;</span>Results (ridge CV on Resnet features)</a></span><ul class=\"toc-item\"><li><span><a href=\"#Get-test-preds\" data-toc-modified-id=\"Get-test-preds-5.1\"><span class=\"toc-item-num\">5.1&nbsp;&nbsp;</span>Get test preds</a></span></li><li><span><a href=\"#Write-to-CSV\" data-toc-modified-id=\"Write-to-CSV-5.2\"><span class=\"toc-item-num\">5.2&nbsp;&nbsp;</span>Write to CSV</a></span><ul class=\"toc-item\"><li><span><a href=\"#Predictions\" data-toc-modified-id=\"Predictions-5.2.1\"><span class=\"toc-item-num\">5.2.1&nbsp;&nbsp;</span>Predictions</a></span></li><li><span><a href=\"#Per-country-r^2\" data-toc-modified-id=\"Per-country-r^2-5.2.2\"><span class=\"toc-item-num\">5.2.2&nbsp;&nbsp;</span>Per-country r^2</a></span></li></ul></li><li><span><a href=\"#Plot\" data-toc-modified-id=\"Plot-5.3\"><span class=\"toc-item-num\">5.3&nbsp;&nbsp;</span>Plot</a></span></li></ul></li></ul></div>"
   ]
  },
  {
   "cell_type": "markdown",
   "metadata": {},
   "source": [
    "# Imports and Constants"
   ]
  },
  {
   "cell_type": "code",
   "execution_count": null,
   "metadata": {},
   "outputs": [],
   "source": [
    "%load_ext autoreload\n",
    "%autoreload 2\n",
    "%matplotlib inline\n",
    "\n",
    "from collections import defaultdict\n",
    "import pickle\n",
    "import os\n",
    "import sys\n",
    "\n",
    "import matplotlib.pyplot as plt\n",
    "import numpy as np\n",
    "import pandas as pd\n",
    "\n",
    "sys.path.append('../')\n",
    "from batchers import dataset_constants\n",
    "from utils.analysis import evaluate\n",
    "from utils.general import load_npz"
   ]
  },
  {
   "cell_type": "code",
   "execution_count": null,
   "metadata": {},
   "outputs": [],
   "source": [
    "LOGS_ROOT_DIR = '../logs/'\n",
    "DATASET_NAME = '2009-17'\n",
    "KEEPS = [0.05, 0.1, 0.25, 0.5]\n",
    "SPLITS = ['train', 'val', 'test']\n",
    "SEEDS = [123, 456, 789]"
   ]
  },
  {
   "cell_type": "markdown",
   "metadata": {},
   "source": [
    "# Loading"
   ]
  },
  {
   "cell_type": "markdown",
   "metadata": {},
   "source": [
    "## Load saved histograms"
   ]
  },
  {
   "cell_type": "code",
   "execution_count": null,
   "metadata": {},
   "outputs": [],
   "source": [
    "file_path = '../data/dhs_image_hists.npz'\n",
    "npz = load_npz(file_path)\n",
    "\n",
    "image_hists = npz['image_hists']\n",
    "labels = npz['labels']\n",
    "locs = npz['locs']\n",
    "years = npz['years']\n",
    "\n",
    "num_examples = len(image_hists)\n",
    "assert np.all(np.asarray([len(labels), len(locs), len(years)]) == num_examples)"
   ]
  },
  {
   "cell_type": "markdown",
   "metadata": {},
   "source": [
    "## Load `loc_dict`\n",
    "\n",
    "`loc_dict` has the format:\n",
    "```python\n",
    "{\n",
    "    (lat, lon): {\n",
    "        'cluster': 1,\n",
    "        'country': 'malawi',\n",
    "        'country_year': 'malawi_2012',  # surveyID\n",
    "        'households': 25,\n",
    "        'urban': 0,\n",
    "        'wealth': -0.513607621192932,\n",
    "        'wealthpooled': -0.732255101203918,\n",
    "        'year': 2012\n",
    "    },\n",
    "    ...\n",
    "}\n",
    "```\n",
    "\n",
    "NOTE: `year` and `country_year` might differ in the year. `country_year` is the survey ID, which says which year the survey started. However, sometimes the DHS surveys cross the year-boundary, in which case `country_year` will remain the same but `year` will be the next year."
   ]
  },
  {
   "cell_type": "code",
   "execution_count": null,
   "metadata": {},
   "outputs": [],
   "source": [
    "loc_dict_path = '../data/dhs_loc_dict.pkl'\n",
    "with open(loc_dict_path, 'rb') as f:\n",
    "    loc_dict = pickle.load(f)"
   ]
  },
  {
   "cell_type": "markdown",
   "metadata": {},
   "source": [
    "## Get urban v. rural indices"
   ]
  },
  {
   "cell_type": "code",
   "execution_count": null,
   "metadata": {},
   "outputs": [],
   "source": [
    "def get_urban_rural_indices(locs):\n",
    "    '''\n",
    "    Args\n",
    "    - locs: np.array, shape [N, 2]\n",
    "\n",
    "    Returns\n",
    "    - urban_indices: np.array, shape [num_urban]\n",
    "    - rural_indices: np.array, shape [num_rural]\n",
    "    '''\n",
    "    urban_indices = []\n",
    "    rural_indices = []\n",
    "\n",
    "    for i, loc in enumerate(locs):\n",
    "        loc = tuple(loc)\n",
    "        if loc_dict[loc]['urban'] == 0:\n",
    "            rural_indices.append(i)\n",
    "        else:\n",
    "            urban_indices.append(i)\n",
    "    urban_indices = np.asarray(urban_indices)\n",
    "    rural_indices = np.asarray(rural_indices)\n",
    "    print('num urban: {}\\t num rural: {}'.format(len(urban_indices), len(rural_indices)))\n",
    "    return urban_indices, rural_indices\n",
    "\n",
    "urban_indices, rural_indices = get_urban_rural_indices(locs)"
   ]
  },
  {
   "cell_type": "markdown",
   "metadata": {},
   "source": [
    "## Create `country_indices` and `country_labels`\n",
    "\n",
    "`country_indices` is a dictionary that maps a country name to a sorted `np.array` of its indices\n",
    "```\n",
    "{\n",
    "    ...\n",
    "    'malawi': np.array([ 8530,  8531,  8532, ..., 10484, 10485, 10486]),\n",
    "    ...\n",
    "}\n",
    "```\n",
    "\n",
    "`country_labels` is a `np.array` that shows which country each example belongs to\n",
    "```\n",
    "    np.array([0, 0, 0, 0, ..., 22, 22, 22])\n",
    "```\n",
    "where countries are indexed by their position in `dataset_constants.COUNTRIES`"
   ]
  },
  {
   "cell_type": "code",
   "execution_count": null,
   "metadata": {},
   "outputs": [],
   "source": [
    "country_indices = defaultdict(list)\n",
    "\n",
    "for i, (lat, lon) in enumerate(locs):\n",
    "    country = loc_dict[(lat, lon)]['country']\n",
    "    country_indices[country].append(i)\n",
    "\n",
    "for country in country_indices:\n",
    "    country_indices[country] = np.asarray(country_indices[country])"
   ]
  },
  {
   "cell_type": "code",
   "execution_count": null,
   "metadata": {},
   "outputs": [],
   "source": [
    "country_labels = np.zeros(num_examples, dtype=np.int32)\n",
    "\n",
    "for i, country in enumerate(dataset_constants.DHS_COUNTRIES):\n",
    "    indices = country_indices[country]\n",
    "    country_labels[indices] = i"
   ]
  },
  {
   "cell_type": "code",
   "execution_count": null,
   "metadata": {},
   "outputs": [],
   "source": [
    "country_year_indices = defaultdict(list)\n",
    "\n",
    "for i, (lat, lon) in enumerate(locs):\n",
    "    cy = loc_dict[(lat, lon)]['country_year']\n",
    "    country_year_indices[cy].append(i)\n",
    "\n",
    "for cy in country_year_indices:\n",
    "    country_year_indices[cy] = np.asarray(country_year_indices[cy])"
   ]
  },
  {
   "cell_type": "code",
   "execution_count": null,
   "metadata": {},
   "outputs": [],
   "source": [
    "def get_indices_for_countries(countries):\n",
    "    indices = np.sort(np.concatenate([\n",
    "        country_indices[country] for country in countries\n",
    "    ]))\n",
    "    return indices"
   ]
  },
  {
   "cell_type": "markdown",
   "metadata": {},
   "source": [
    "## Get folds\n",
    "\n",
    "`folds`: maps fold into a dict, which maps split into a list of country names for that fold.\n",
    "\n",
    "```\n",
    "folds['A'] = {\n",
    "    'train': ['country1', 'country2', ...],\n",
    "    'val': ...\n",
    "    'test': ...\n",
    "}\n",
    "```\n",
    "\n",
    "`fold_test_indices`: maps fold into indices corresponding to test countries in that fold\n",
    "```\n",
    "fold_test_indices['A'] = np.array\n",
    "```"
   ]
  },
  {
   "cell_type": "code",
   "execution_count": null,
   "metadata": {},
   "outputs": [],
   "source": [
    "FOLDS = ['A', 'B', 'C', 'D', 'E']\n",
    "\n",
    "folds = {\n",
    "    'A': dataset_constants.SURVEY_NAMES['2009-17A'],\n",
    "    'B': dataset_constants.SURVEY_NAMES['2009-17B'],\n",
    "    'C': dataset_constants.SURVEY_NAMES['2009-17C'],\n",
    "    'D': dataset_constants.SURVEY_NAMES['2009-17D'],\n",
    "    'E': dataset_constants.SURVEY_NAMES['2009-17E'],\n",
    "}"
   ]
  },
  {
   "cell_type": "code",
   "execution_count": null,
   "metadata": {},
   "outputs": [],
   "source": [
    "fold_test_indices = {\n",
    "    f: get_indices_for_countries(folds[f]['test'])\n",
    "    for f in folds\n",
    "}\n",
    "fold_test_indices['all'] = np.arange(num_examples)"
   ]
  },
  {
   "cell_type": "markdown",
   "metadata": {},
   "source": [
    "# General Plotting Code"
   ]
  },
  {
   "cell_type": "code",
   "execution_count": null,
   "metadata": {},
   "outputs": [],
   "source": [
    "def plot_shaded(ax, data, label, color, ylims=None):\n",
    "    '''Plots a line with +/- 2 std dev shaded region.\n",
    "\n",
    "    Args\n",
    "    - ax: matplotlib.axes.Axes\n",
    "    - data: dict, maps x-coordinates to list of values\n",
    "    - label: str, for legend\n",
    "    - color: str\n",
    "    - ylims: tuple, (bottom, top)\n",
    "    '''\n",
    "    means = []\n",
    "    stds = []\n",
    "    xs = []\n",
    "    x_points = []\n",
    "    y_points = []\n",
    "\n",
    "    for x, values in data.items():\n",
    "        xs.append(x)\n",
    "        means.append(np.mean(values))\n",
    "        stds.append(np.std(values))\n",
    "\n",
    "        for value in values:\n",
    "            x_points.append(x)\n",
    "            y_points.append(value)\n",
    "\n",
    "    means = np.asarray(means)\n",
    "    stds = np.asarray(stds)\n",
    "\n",
    "    # ax.scatter(x_points, y_points, alpha=0.8, color=color)  # alpha=0 is transparent\n",
    "    ax.plot(xs, means, label=label, color=color)\n",
    "    ax.fill_between(xs, means - 2 * stds, means + 2 * stds, facecolor=color, alpha=0.2)\n",
    "    if ylims is not None:\n",
    "        ax.set_ylim(bottom=ylims[0], top=ylims[1])"
   ]
  },
  {
   "cell_type": "code",
   "execution_count": null,
   "metadata": {},
   "outputs": [],
   "source": [
    "COLORS = {\n",
    "    'nl': 'black',\n",
    "    'ms': 'green',\n",
    "    'msnl': 'blue',\n",
    "    'msnl_concat': 'cyan',\n",
    "    'ms_transfer': 'lightblue',\n",
    "    'rgb': 'red',\n",
    "    'rgbnl': 'orange',\n",
    "    'rgbnl_concat': 'magenta',\n",
    "    'rgb_transfer': 'rosybrown',\n",
    "    'nls_mean_knn': 'purple'\n",
    "}"
   ]
  },
  {
   "cell_type": "code",
   "execution_count": null,
   "metadata": {},
   "outputs": [],
   "source": [
    "def plot_metric_v_keep(ax, metrics, ylabel, title=None, ylims=None, legend=True):\n",
    "    '''\n",
    "    Args\n",
    "    - ax: matplotlib.axes.Axes\n",
    "    - split: str, one of ['train', 'val', 'test']\n",
    "    - metrics: dict, metrics[model_name][keep_frac] => list of values\n",
    "    - ylabel: str, either 'r^2' or 'R^2'\n",
    "    - ylims: tuple, (bottom, top)\n",
    "    - legend: bool\n",
    "    '''\n",
    "    for model_name in metrics:\n",
    "        data = metrics[model_name]\n",
    "        plot_shaded(ax, data=data, label=model_name, color=COLORS[model_name], ylims=ylims)\n",
    "    if title is None:\n",
    "        ax.set_title('Performance vs. Fraction of Training Data Used')\n",
    "    else:\n",
    "        ax.set_title(title)\n",
    "    ax.set_xlabel('Fraction of training data used')\n",
    "    ax.set_ylabel(ylabel)\n",
    "    if legend:\n",
    "        ax.legend(loc='center left', bbox_to_anchor=(1, 0.5))\n",
    "    ax.grid(True)"
   ]
  },
  {
   "cell_type": "markdown",
   "metadata": {},
   "source": [
    "# Results (preds directly from Resnets)\n",
    "\n",
    "TODO: These results have not been run yet."
   ]
  },
  {
   "cell_type": "markdown",
   "metadata": {},
   "source": [
    "## Get test preds"
   ]
  },
  {
   "cell_type": "code",
   "execution_count": null,
   "metadata": {},
   "outputs": [],
   "source": [
    "BANDS = ['ms', 'msnl', 'nl', 'rgb', 'rgbnl']\n",
    "\n",
    "def get_test_preds(bands, keep_frac, seed):\n",
    "    dirname = f'resnet_{bands}_keep{keep_frac}'\n",
    "    dir_path = os.path.join(LOGS_ROOT_DIR, 'dhs_resnet', dirname)\n",
    "    test_preds = np.zeros(num_examples)\n",
    "    for f in folds:\n",
    "        npz_filename = f'test_preds_2009-17{f}_seed{seed}.npz'\n",
    "        npz_path = os.path.join(dir_path, npz_filename)\n",
    "        test_indices = fold_test_indices[f]\n",
    "        test_preds[test_indices] = load_npz(\n",
    "            npz_path,\n",
    "            check=dict(locs=locs[test_indices], labels=labels[test_indices]))['preds']\n",
    "    return test_preds\n",
    "\n",
    "preds = {}\n",
    "\n",
    "for bands in BANDS:\n",
    "    for keep_frac in KEEPS:\n",
    "        for seed in SEEDS:\n",
    "            preds[(bands, keep_frac, seed)] = get_test_preds(bands, keep_frac, seed)\n",
    "\n",
    "for bands in BANDS:\n",
    "    npz_path = os.path.join(LOGS_ROOT_DIR, 'dhs_resnet', 'resnet_' + bands, 'test_preds.npz')\n",
    "    preds[(bands, 1.0)] = load_npz(npz_path)['test_preds']"
   ]
  },
  {
   "cell_type": "code",
   "execution_count": null,
   "metadata": {},
   "outputs": [],
   "source": [
    "test_df_data = []\n",
    "\n",
    "for bands in BANDS:\n",
    "    for keep_frac in KEEPS:\n",
    "        for seed in SEEDS:\n",
    "            for f in folds:\n",
    "                indices = fold_test_indices[f]\n",
    "                r2, R2, mse, _ = evaluate(\n",
    "                    labels=labels[indices],\n",
    "                    preds=preds[(bands, keep_frac, seed)][indices])\n",
    "                row = [bands, keep_frac, seed, f, r2, R2, mse]\n",
    "                test_df_data.append(row)\n",
    "            r2, R2, mse, _ = evaluate(\n",
    "                labels=labels,\n",
    "                preds=preds[(bands, keep_frac, seed)])\n",
    "            row = [bands, keep_frac, seed, 'all', r2, R2, mse]\n",
    "            test_df_data.append(row)\n",
    "\n",
    "test_df = pd.DataFrame.from_records(\n",
    "    test_df_data,\n",
    "    columns=['bands', 'keep_frac', 'seed', 'fold', 'r2', 'R2', 'mse'],\n",
    "    index=['bands', 'keep_frac', 'seed', 'fold']\n",
    ")\n",
    "test_df = test_df.unstack('seed')\n",
    "display(test_df.style.format('{:.4f}'))"
   ]
  },
  {
   "cell_type": "code",
   "execution_count": null,
   "metadata": {},
   "outputs": [],
   "source": [
    "r2s = {}  # r2s[fold][bands][keep_frac] = list of values\n",
    "R2s = {}\n",
    "mses = {}\n",
    "\n",
    "for f in FOLDS + ['all']:\n",
    "    for d, name in [(r2s, 'r2'), (R2s, 'R2'), (mses, 'mse')]:\n",
    "        d[f] = {\n",
    "            bands: {\n",
    "                keep_frac: test_df.loc[(bands, keep_frac, f), name].tolist()\n",
    "                for keep_frac in KEEPS\n",
    "            }\n",
    "            for bands in BANDS\n",
    "        }\n",
    "\n",
    "for bands in BANDS:\n",
    "    for f in FOLDS + ['all']:\n",
    "        indices = fold_test_indices[f]\n",
    "        r2, R2, mse, _ = evaluate(\n",
    "            labels=labels[indices],\n",
    "            preds=preds[(bands, 1.0)][indices])\n",
    "        r2s[f][bands][1.0] = [r2]\n",
    "        R2s[f][bands][1.0] = [R2]\n",
    "        mses[f][bands][1.0] = [mse]"
   ]
  },
  {
   "cell_type": "markdown",
   "metadata": {},
   "source": [
    "## Plot"
   ]
  },
  {
   "cell_type": "code",
   "execution_count": null,
   "metadata": {},
   "outputs": [],
   "source": [
    "for (metrics, ylabel, ylims) in [\n",
    "    (r2s, 'r^2', (0.2, 0.8)),\n",
    "    (R2s, 'R^2', (0.2, 0.8)),\n",
    "    (mses, 'mse', (0.1, 0.7))\n",
    "]:\n",
    "    fig, axs = plt.subplots(nrows=1, ncols=5, sharey=True, figsize=[20, 4])\n",
    "    for i, f in enumerate(FOLDS):\n",
    "        title = 'Fold: ' + f\n",
    "        plot_metric_v_keep(ax=axs[i], metrics=metrics[f], ylabel=ylabel,\n",
    "                           title=title, ylims=ylims, legend=(i==4))\n",
    "    fig.tight_layout()\n",
    "\n",
    "    fig, ax = plt.subplots(1, 1, figsize=[8, 5])\n",
    "    plot_metric_v_keep(ax=ax, metrics=metrics['all'], ylabel=ylabel,\n",
    "                       title='Fold: all', ylims=ylims)\n",
    "    fig.tight_layout()\n",
    "    plt.show()"
   ]
  },
  {
   "cell_type": "markdown",
   "metadata": {},
   "source": [
    "# Results (ridge CV on Resnet features)"
   ]
  },
  {
   "cell_type": "markdown",
   "metadata": {},
   "source": [
    "## Get test preds"
   ]
  },
  {
   "cell_type": "code",
   "execution_count": null,
   "metadata": {},
   "outputs": [],
   "source": [
    "# BANDS = ['ms', 'msnl', 'nl', 'rgb', 'rgbnl',\n",
    "#          'msnl_concat', 'rgbnl_concat',\n",
    "#          'ms_transfer', 'rgb_transfer', 'nls_mean_knn']\n",
    "BANDS = ['ms', 'msnl_concat', 'nl', 'ms_transfer', 'rgb_transfer']\n",
    "\n",
    "transfer_dirs = {\n",
    "    'rgb_transfer': 'transfer_2009-17nl_nlcenter_18preact_rgb_b64_fc001_conv001_lr0001',\n",
    "    'ms_transfer': 'transfer_2009-17nl_nlcenter_18preact_ms_b64_fc001_conv001_lr0001',\n",
    "}\n",
    "\n",
    "def get_test_preds(bands, keep_frac, seed):\n",
    "    if 'transfer' in bands:\n",
    "        dirname = transfer_dirs[bands]\n",
    "        npz_filename = f'test_preds_keep{keep_frac}_seed{seed}.npz'\n",
    "        npz_path = os.path.join(LOGS_ROOT_DIR, dirname, npz_filename)\n",
    "    elif 'knn' in bands:\n",
    "        dirname = bands.replace('_knn', '')\n",
    "        npz_filename = f'test_preds_keep{keep_frac}_seed{seed}.npz'\n",
    "        npz_path = os.path.join(LOGS_ROOT_DIR, 'dhs_knn', dirname, npz_filename)\n",
    "    else:\n",
    "        npz_filename = f'test_preds_keep{keep_frac}_seed{seed}.npz'\n",
    "        npz_path = os.path.join(LOGS_ROOT_DIR, 'dhs_resnet', bands, npz_filename)\n",
    "    test_preds = load_npz(npz_path)['test_preds']\n",
    "    return test_preds\n",
    "\n",
    "preds = {}\n",
    "\n",
    "for bands in BANDS:\n",
    "    for keep_frac in KEEPS:\n",
    "        for seed in SEEDS:\n",
    "            preds[(bands, keep_frac, seed)] = get_test_preds(bands, keep_frac, seed)\n",
    "\n",
    "for bands in BANDS:\n",
    "    if 'transfer' in bands:\n",
    "        dirname = transfer_dirs[bands]\n",
    "        npz_path = os.path.join(LOGS_ROOT_DIR, dirname, 'test_preds.npz')\n",
    "    elif 'knn' in bands:\n",
    "        dirname = bands.replace('_knn', '')\n",
    "        npz_path = os.path.join(LOGS_ROOT_DIR, 'dhs_knn', dirname, 'test_preds.npz')\n",
    "    else:\n",
    "        dirname = bands\n",
    "        npz_path = os.path.join(LOGS_ROOT_DIR, 'dhs_resnet', dirname, 'test_preds.npz')\n",
    "\n",
    "    preds[(bands, 1.0)] = load_npz(npz_path)['test_preds']"
   ]
  },
  {
   "cell_type": "code",
   "execution_count": null,
   "metadata": {},
   "outputs": [],
   "source": [
    "test_df_data = []\n",
    "\n",
    "for bands in BANDS:\n",
    "    for keep_frac in KEEPS:\n",
    "        for seed in SEEDS:\n",
    "            for f in folds:\n",
    "                indices = fold_test_indices[f]\n",
    "                r2, R2, mse, _ = evaluate(\n",
    "                    labels=labels[indices],\n",
    "                    preds=preds[(bands, keep_frac, seed)][indices])\n",
    "                row = [bands, keep_frac, seed, f, r2, R2, mse]\n",
    "                test_df_data.append(row)\n",
    "            r2, R2, mse, _ = evaluate(\n",
    "                labels=labels,\n",
    "                preds=preds[(bands, keep_frac, seed)])\n",
    "            row = [bands, keep_frac, seed, 'all', r2, R2, mse]\n",
    "            test_df_data.append(row)\n",
    "\n",
    "test_df = pd.DataFrame.from_records(\n",
    "    test_df_data,\n",
    "    columns=['bands', 'keep_frac', 'seed', 'fold', 'r2', 'R2', 'mse'],\n",
    "    index=['bands', 'keep_frac', 'seed', 'fold'])\n",
    "test_df = test_df.unstack('seed')\n",
    "display(test_df.style.format('{:.4f}'))"
   ]
  },
  {
   "cell_type": "code",
   "execution_count": null,
   "metadata": {},
   "outputs": [],
   "source": [
    "r2s = {}  # r2s[fold][bands][keep_frac] = list of values\n",
    "R2s = {}\n",
    "mses = {}\n",
    "\n",
    "for fold in FOLDS + ['all']:\n",
    "    for d, name in [(r2s, 'r2'), (R2s, 'R2'), (mses, 'mse')]:\n",
    "        d[fold] = {\n",
    "            bands: {\n",
    "                keep_frac: test_df.loc[(bands, keep_frac, fold), name].tolist()\n",
    "                for keep_frac in KEEPS\n",
    "            }\n",
    "            for bands in BANDS\n",
    "        }\n",
    "\n",
    "for bands in BANDS:\n",
    "    for f in FOLDS + ['all']:\n",
    "        indices = fold_test_indices[f]\n",
    "        r2, R2, mse, _ = evaluate(\n",
    "            labels=labels[indices],\n",
    "            preds=preds[(bands, 1.0)][indices])\n",
    "        r2s[f][bands][1.0] = [r2]\n",
    "        R2s[f][bands][1.0] = [R2]\n",
    "        mses[f][bands][1.0] = [mse]"
   ]
  },
  {
   "cell_type": "markdown",
   "metadata": {},
   "source": [
    "## Write to CSV"
   ]
  },
  {
   "cell_type": "markdown",
   "metadata": {},
   "source": [
    "### Predictions"
   ]
  },
  {
   "cell_type": "code",
   "execution_count": null,
   "metadata": {},
   "outputs": [],
   "source": [
    "MODEL_CONVERSION = {\n",
    "    'nl': 'Resnet-18 NL',\n",
    "    'ms': 'Resnet-18 MS',\n",
    "    'msnl': 'Resnet-18 MS+NL',\n",
    "    'msnl_concat': 'Resnet-18 MS+NL concat',\n",
    "    'ms_transfer': 'Resnet-18 MS Transfer',\n",
    "    'rgb': 'Resnet-18 RGB',\n",
    "    'rgbnl': 'Resnet-18 RGB+NL',\n",
    "    'rgbnl_concat': 'Resnet-18 RGB+NL concat',\n",
    "    'rgb_transfer': 'Resnet-18 RGB Transfer',\n",
    "}\n",
    "\n",
    "model_names = []\n",
    "for bands in BANDS:\n",
    "    m = MODEL_CONVERSION[bands]\n",
    "    for k in KEEPS + [1.0]:\n",
    "        for s in SEEDS:\n",
    "            if k == 1.0:\n",
    "                model_name = '{m}, keep{k}'.format(m=m, k=k)\n",
    "            else:\n",
    "                model_name = '{m}, keep{k}, seed{s}'.format(m=m, k=k, s=s)\n",
    "            model_names.append(model_name)\n",
    "\n",
    "preds_df = pd.DataFrame(\n",
    "    columns=['lat', 'lon', 'country', 'country_year', 'urban', 'wealthpooled'] + model_names)\n",
    "preds_df['lat'] = locs[:, 0]\n",
    "preds_df['lon'] = locs[:, 1]\n",
    "\n",
    "for country in country_indices:\n",
    "    preds_df.loc[country_indices[country], 'country'] = country\n",
    "\n",
    "for country_year in country_year_indices:\n",
    "    preds_df.loc[country_year_indices[country_year], 'country_year'] = country_year\n",
    "\n",
    "preds_df.loc[:, 'urban'] = False\n",
    "preds_df.loc[urban_indices, 'urban'] = True\n",
    "\n",
    "preds_df['wealthpooled'] = labels\n",
    "\n",
    "model_names = []\n",
    "for bands in BANDS:\n",
    "    m = MODEL_CONVERSION[bands]\n",
    "    for k in KEEPS + [1.0]:\n",
    "        for s in SEEDS:\n",
    "            if k == 1.0:\n",
    "                model_name = '{m}, keep{k}'.format(m=m, k=k)\n",
    "                preds_df[model_name] = preds[(bands, k)]\n",
    "            else:\n",
    "                model_name = '{m}, keep{k}, seed{s}'.format(m=m, k=k, s=s)\n",
    "                preds_df[model_name] = preds[(bands, k, s)]\n",
    "\n",
    "preds_df.to_csv('preds_keep.csv', index=False)"
   ]
  },
  {
   "cell_type": "markdown",
   "metadata": {},
   "source": [
    "### Per-country r^2"
   ]
  },
  {
   "cell_type": "code",
   "execution_count": null,
   "metadata": {},
   "outputs": [],
   "source": [
    "test_df_data = []\n",
    "\n",
    "for bands in BANDS:\n",
    "    model_name = MODEL_CONVERSION[bands]\n",
    "    for keep_frac in KEEPS + [1.0]:\n",
    "        if keep_frac == 1.0:\n",
    "            possible_seeds = [123]\n",
    "        else:\n",
    "            possible_seeds = SEEDS\n",
    "        for seed in possible_seeds:\n",
    "            if keep_frac == 1.0:\n",
    "                model_selector = (bands, 1.0)\n",
    "            else:\n",
    "                model_selector = (bands, keep_frac, seed)\n",
    "\n",
    "            for country in dataset_constants.DHS_COUNTRIES:\n",
    "                indices = country_indices[country]\n",
    "                r2, R2, mse, _ = evaluate(\n",
    "                    preds=preds[model_selector][indices],\n",
    "                    labels=labels[indices]\n",
    "                )\n",
    "                row = [model_name, keep_frac, seed, country, r2, R2, mse]\n",
    "                test_df_data.append(row)\n",
    "            r2, R2, mse, _ = evaluate(\n",
    "                preds=preds[model_selector],\n",
    "                labels=labels\n",
    "            )\n",
    "            row = [model_name, keep_frac, seed, 'overall', r2, R2, mse]\n",
    "            test_df_data.append(row)\n",
    "\n",
    "test_df = pd.DataFrame.from_records(\n",
    "    test_df_data,\n",
    "    columns=['model', 'keep_frac', 'seed', 'country', 'r2', 'R2', 'mse'],\n",
    "    index=['model', 'keep_frac', 'seed', 'country']\n",
    ")\n",
    "display(test_df.style.format('{:.4f}'))\n",
    "\n",
    "test_df.to_csv('r2_keep.csv', index=True)"
   ]
  },
  {
   "cell_type": "markdown",
   "metadata": {},
   "source": [
    "## Plot"
   ]
  },
  {
   "cell_type": "code",
   "execution_count": null,
   "metadata": {},
   "outputs": [],
   "source": [
    "for (metrics, ylabel, ylims) in [\n",
    "    (r2s, '$r^2$', (0.2, 0.8)),\n",
    "    (R2s, '$R^2$', (0.2, 0.8)),\n",
    "    (mses, 'mse', (0.1, 0.7))\n",
    "]:\n",
    "    fig, axs = plt.subplots(nrows=1, ncols=5, sharey=True, figsize=[20, 4])\n",
    "    for i, f in enumerate(FOLDS):\n",
    "        title = 'Fold: ' + f\n",
    "        plot_metric_v_keep(ax=axs[i], metrics=metrics[f], ylabel=ylabel,\n",
    "                           title=title, ylims=ylims, legend=(i==4))\n",
    "    fig.tight_layout()\n",
    "\n",
    "    fig, ax = plt.subplots(1, 1, figsize=[8, 5])\n",
    "    plot_metric_v_keep(ax=ax, metrics=metrics['all'], ylabel=ylabel,\n",
    "                       title='Fold: all', ylims=ylims)\n",
    "    fig.tight_layout()\n",
    "    plt.show()"
   ]
  }
 ],
 "metadata": {
  "kernelspec": {
   "display_name": "Python 3",
   "language": "python",
   "name": "python3"
  },
  "language_info": {
   "codemirror_mode": {
    "name": "ipython",
    "version": 3
   },
   "file_extension": ".py",
   "mimetype": "text/x-python",
   "name": "python",
   "nbconvert_exporter": "python",
   "pygments_lexer": "ipython3",
   "version": "3.7.3"
  },
  "toc": {
   "base_numbering": 1,
   "nav_menu": {},
   "number_sections": true,
   "sideBar": true,
   "skip_h1_title": false,
   "title_cell": "Table of Contents",
   "title_sidebar": "Contents",
   "toc_cell": true,
   "toc_position": {},
   "toc_section_display": true,
   "toc_window_display": true
  }
 },
 "nbformat": 4,
 "nbformat_minor": 2
}
