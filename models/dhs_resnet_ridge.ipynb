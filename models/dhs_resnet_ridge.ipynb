{
 "cells": [
  {
   "cell_type": "markdown",
   "id": "2ded0ef8-22f8-4b13-98c0-d1d879171ab3",
   "metadata": {},
   "source": [
    "## Pre-requisites\n",
    "\n",
    "Before running this notebook, you should have already used the `extract_features.py` script to extract features from models trained on DHS data. You should have the following structure under the `outputs/` directory:\n",
    "\n",
    "```\n",
    "dhs_ooc/\n",
    "    DHS_OOC_A_ms_samescaled_b64_fc01_conv01_lr0001/\n",
    "        features.npz\n",
    "    ...\n",
    "    DHS_OOC_E_rgb_same_b64_fc001_conv001_lr0001/\n",
    "        features.npz\n",
    "\n",
    "TODO: update when transfer, incountry, and keep-frac models are added\n",
    "```\n",
    "\n",
    "## Instructions\n",
    "\n",
    "This notebook essentially performs fine-tuning of the final-layer of the Resnet-18 models. However, instead of directly fine-tuning the Resnet-18 models in TensorFlow, we train ridge-regression models using the extracted features. We take this approach for two reasons:\n",
    "\n",
    "1. It is easier to perform leave-one-group-out (\"logo\") cross-validated ridge regression using scikit-learn, as opposed to TensorFlow. For out-of-country (OOC) experiments, the left-out group is the test country. For in-country experiments, TODO.\n",
    "2. We can concatenate the 512-dim features from the RGB/MS CNN models with the 512-dim features from the NL CNN models to form a larger 1024-dim feature vector capturing RGB/MS + NL imagery information. We do this instead of training a CNN with the MS+NL imagery stacked together as an input because we found it to result in better performance.\n",
    "\n",
    "Because of the extensive cross-validation, this notebook may take several hours to run.\n",
    "\n",
    "After you complete this notebook, use the `model_analysis/dhs_ooc.ipynb` and `model_analysis/dhs_incountry.ipynb` (TODO) notebooks to analyze the final performance of the fine-tuned Resnet-18 models."
   ]
  },
  {
   "cell_type": "markdown",
   "id": "166c1303-d7ba-4a45-8967-2ee8a0a46af1",
   "metadata": {},
   "source": [
    "## Imports and Constants"
   ]
  },
  {
   "cell_type": "code",
   "execution_count": null,
   "id": "7f0dc827-40b1-401b-8f83-5b8555f4c54a",
   "metadata": {},
   "outputs": [],
   "source": [
    "%cd '../'\n",
    "%load_ext autoreload\n",
    "%autoreload 2\n",
    "%matplotlib inline"
   ]
  },
  {
   "cell_type": "code",
   "execution_count": null,
   "id": "f372d82e-7417-44a8-bb8b-806de4e4836c",
   "metadata": {},
   "outputs": [],
   "source": [
    "from __future__ import annotations\n",
    "\n",
    "from collections.abc import Iterable\n",
    "import os\n",
    "\n",
    "import numpy as np\n",
    "import pandas as pd\n",
    "\n",
    "from batchers import dataset_constants\n",
    "from models.linear_model import ridge_cv\n",
    "from utils.general import load_npz"
   ]
  },
  {
   "cell_type": "code",
   "execution_count": null,
   "id": "9351ed9a-1dc4-4f41-b18a-f366fac14eff",
   "metadata": {},
   "outputs": [],
   "source": [
    "FOLDS = ['A', 'B', 'C', 'D', 'E']\n",
    "SPLITS = ['train', 'val', 'test']\n",
    "OUTPUTS_ROOT_DIR = 'outputs'\n",
    "COUNTRIES = dataset_constants.DHS_COUNTRIES\n",
    "\n",
    "KEEPS = [0.05, 0.1, 0.25, 0.5]\n",
    "SEEDS = [123, 456, 789]"
   ]
  },
  {
   "cell_type": "code",
   "execution_count": null,
   "id": "94479345-c2c7-40ae-a434-5349de96e296",
   "metadata": {},
   "outputs": [],
   "source": [
    "MODEL_DIRS = {\n",
    "    # OOC models\n",
    "    'resnet_ms_A': 'DHS_OOC_A_ms_samescaled_b64_fc01_conv01_lr0001',\n",
    "    'resnet_ms_B': 'DHS_OOC_B_ms_samescaled_b64_fc001_conv001_lr0001',\n",
    "    'resnet_ms_C': 'DHS_OOC_C_ms_samescaled_b64_fc001_conv001_lr001',\n",
    "    'resnet_ms_D': 'DHS_OOC_D_ms_samescaled_b64_fc001_conv001_lr01',\n",
    "    'resnet_ms_E': 'DHS_OOC_E_ms_samescaled_b64_fc01_conv01_lr001',\n",
    "\n",
    "    'resnet_nl_A': 'DHS_OOC_A_nl_random_b64_fc1.0_conv1.0_lr0001',\n",
    "    'resnet_nl_B': 'DHS_OOC_B_nl_random_b64_fc1.0_conv1.0_lr0001',\n",
    "    'resnet_nl_C': 'DHS_OOC_C_nl_random_b64_fc1.0_conv1.0_lr0001',\n",
    "    'resnet_nl_D': 'DHS_OOC_D_nl_random_b64_fc1.0_conv1.0_lr01',\n",
    "    'resnet_nl_E': 'DHS_OOC_E_nl_random_b64_fc1.0_conv1.0_lr0001',\n",
    "\n",
    "    'resnet_rgb_A': 'DHS_OOC_A_rgb_same_b64_fc001_conv001_lr01',\n",
    "    'resnet_rgb_B': 'DHS_OOC_B_rgb_same_b64_fc001_conv001_lr0001',\n",
    "    'resnet_rgb_C': 'DHS_OOC_C_rgb_same_b64_fc001_conv001_lr0001',\n",
    "    'resnet_rgb_D': 'DHS_OOC_D_rgb_same_b64_fc1.0_conv1.0_lr01',\n",
    "    'resnet_rgb_E': 'DHS_OOC_E_rgb_same_b64_fc001_conv001_lr0001',\n",
    "\n",
    "    # transfer models\n",
    "    # TODO\n",
    "\n",
    "    # incountry models\n",
    "    # TODO\n",
    "\n",
    "    # keep-frac models\n",
    "    # TODO\n",
    "}"
   ]
  },
  {
   "cell_type": "markdown",
   "id": "065c0e12-8172-4857-8b4e-cf550f73d0e0",
   "metadata": {},
   "source": [
    "## Load data"
   ]
  },
  {
   "cell_type": "markdown",
   "id": "c631ee92-dd4b-4185-bb2d-d77fa496617c",
   "metadata": {},
   "source": [
    "`country_labels` is a `np.ndarray` that shows which country each example belongs to\n",
    "```\n",
    "np.array([0, 0, 0, 0, ..., 22, 22, 22])\n",
    "```\n",
    "where countries are indexed by their position in `dataset_constants.DHS_COUNTRIES`"
   ]
  },
  {
   "cell_type": "code",
   "execution_count": null,
   "id": "eebae76e-cc90-444c-9f57-7200f90ff5bc",
   "metadata": {},
   "outputs": [],
   "source": [
    "df = pd.read_csv('data/dhs_clusters.csv', float_precision='high', index_col=False)\n",
    "labels = df['wealthpooled'].to_numpy(dtype=np.float32)\n",
    "locs = df[['lat', 'lon']].to_numpy(dtype=np.float32)\n",
    "country_labels = df['country'].map(COUNTRIES.index).to_numpy()"
   ]
  },
  {
   "cell_type": "markdown",
   "id": "d9484a4b-9255-41fb-bcc1-609843e2f0fd",
   "metadata": {},
   "source": [
    "## OOC"
   ]
  },
  {
   "cell_type": "code",
   "execution_count": null,
   "id": "b18d791d-07b6-4f91-83d0-feb529c2bc39",
   "metadata": {},
   "outputs": [],
   "source": [
    "def ridgecv_ooc_wrapper(model_name: str, savedir: str) -> None:\n",
    "    features_dict = {}\n",
    "    for f in FOLDS:\n",
    "        model_fold_name = f'{model_name}_{f}'\n",
    "        model_dir = MODEL_DIRS[model_fold_name]\n",
    "        npz = load_npz(os.path.join(OUTPUTS_ROOT_DIR, 'dhs_ooc', model_dir, 'features.npz'),\n",
    "                       check={'labels': labels})\n",
    "        features = npz['features']\n",
    "        for country in dataset_constants.SURVEY_NAMES[f'DHS_OOC_{f}']['test']:\n",
    "            features_dict[country] = features\n",
    "\n",
    "    ridge_cv(\n",
    "        features=features_dict,\n",
    "        labels=labels,\n",
    "        group_labels=country_labels,\n",
    "        group_names=COUNTRIES,\n",
    "        do_plot=True,\n",
    "        savedir=savedir,\n",
    "        save_weights=True,\n",
    "        save_dict=dict(locs=locs))"
   ]
  },
  {
   "cell_type": "markdown",
   "id": "3e89db96-2369-4733-9b09-36a6bd70bd94",
   "metadata": {},
   "source": [
    "Each of the following 3 cells make take ~2 hours each to run."
   ]
  },
  {
   "cell_type": "code",
   "execution_count": null,
   "id": "41686654-b283-4a41-b9c1-3dc93fa0df10",
   "metadata": {},
   "outputs": [],
   "source": [
    "model_name = 'resnet_ms'\n",
    "savedir = os.path.join(OUTPUTS_ROOT_DIR, 'dhs_ooc', 'resnet_ms')\n",
    "ridgecv_ooc_wrapper(model_name, savedir)"
   ]
  },
  {
   "cell_type": "code",
   "execution_count": null,
   "id": "74a0e400-3b78-443c-a5f5-d0e8fe97068c",
   "metadata": {},
   "outputs": [],
   "source": [
    "model_name = 'resnet_rgb'\n",
    "savedir = os.path.join(OUTPUTS_ROOT_DIR, 'dhs_ooc', 'resnet_rgb')\n",
    "ridgecv_ooc_wrapper(model_name, savedir)"
   ]
  },
  {
   "cell_type": "code",
   "execution_count": null,
   "id": "98cde21f-bfd2-40f6-b404-ad41be8ae782",
   "metadata": {},
   "outputs": [],
   "source": [
    "model_name = 'resnet_nl'\n",
    "savedir = os.path.join(OUTPUTS_ROOT_DIR, 'dhs_ooc', 'resnet_nl')\n",
    "ridgecv_ooc_wrapper(model_name, savedir)"
   ]
  },
  {
   "cell_type": "markdown",
   "id": "17feaa0d-40df-4dff-9f91-d71f2e489960",
   "metadata": {},
   "source": [
    "### Concatenated RGB/MS + NL features"
   ]
  },
  {
   "cell_type": "code",
   "execution_count": null,
   "id": "b53d25c8-6bf3-4666-868a-f785a075dabf",
   "metadata": {},
   "outputs": [],
   "source": [
    "def ridgecv_ooc_concat_wrapper(model_names: Iterable[str], savedir: str) -> None:\n",
    "    features_dict = {}\n",
    "    for f in FOLDS:\n",
    "        concat_features = []  # list of np.array, each shape [N, D_i]\n",
    "        for model_name in model_names:\n",
    "            model_dir = MODEL_DIRS[f'{model_name}_{f}']\n",
    "            npz = load_npz(os.path.join(OUTPUTS_ROOT_DIR, 'dhs_ooc', model_dir, 'features.npz'),\n",
    "                           check={'labels': labels})\n",
    "            concat_features.append(npz['features'])\n",
    "        concat_features = np.concatenate(concat_features, axis=1)  # shape [N, D_1 + ... + D_m]\n",
    "        for country in dataset_constants.SURVEY_NAMES[f'DHS_OOC_{f}']['test']:\n",
    "            features_dict[country] = concat_features\n",
    "\n",
    "    ridge_cv(\n",
    "        features=features_dict,\n",
    "        labels=labels,\n",
    "        group_labels=country_labels,\n",
    "        group_names=COUNTRIES,\n",
    "        do_plot=True,\n",
    "        savedir=savedir,\n",
    "        save_weights=True,\n",
    "        save_dict=dict(locs=locs),\n",
    "        verbose=True)"
   ]
  },
  {
   "cell_type": "markdown",
   "id": "098c5100-c058-4140-946a-c37504747d88",
   "metadata": {},
   "source": [
    "Each of the following 2 cells make take ~3 hours each to run."
   ]
  },
  {
   "cell_type": "code",
   "execution_count": null,
   "id": "8a596125-dc4f-4528-83b5-8ce9e5b985b9",
   "metadata": {},
   "outputs": [],
   "source": [
    "model_names = ['resnet_ms', 'resnet_nl']\n",
    "savedir = os.path.join(OUTPUTS_ROOT_DIR, 'dhs_ooc', 'resnet_msnl_concat')\n",
    "ridgecv_ooc_concat_wrapper(model_names, savedir)"
   ]
  },
  {
   "cell_type": "code",
   "execution_count": null,
   "id": "7953099f-5e35-4ea7-91ad-a01a310b994e",
   "metadata": {},
   "outputs": [],
   "source": [
    "model_names = ['resnet_rgb', 'resnet_nl']\n",
    "savedir = os.path.join(OUTPUTS_ROOT_DIR, 'dhs_ooc', 'resnet_rgbnl_concat')\n",
    "ridgecv_ooc_concat_wrapper(model_names, savedir)"
   ]
  }
 ],
 "metadata": {
  "kernelspec": {
   "display_name": "Python [conda env:apy3] *",
   "language": "python",
   "name": "conda-env-apy3-py"
  },
  "language_info": {
   "codemirror_mode": {
    "name": "ipython",
    "version": 3
   },
   "file_extension": ".py",
   "mimetype": "text/x-python",
   "name": "python",
   "nbconvert_exporter": "python",
   "pygments_lexer": "ipython3",
   "version": "3.7.9"
  },
  "toc-autonumbering": false,
  "toc-showcode": false,
  "toc-showmarkdowntxt": false,
  "toc-showtags": false
 },
 "nbformat": 4,
 "nbformat_minor": 5
}
